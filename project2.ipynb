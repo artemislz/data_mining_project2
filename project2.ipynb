{
  "cells": [
    {
      "cell_type": "markdown",
      "source": [
        "## This project was a collaborative effort between two students:\n",
        "- **Lazanaki Artemis** - **sdi2100081**\n",
        "- **Efthymia Papafili** - **sdi2100144**"
      ],
      "metadata": {
        "id": "oYi2nEQ1Q6Kn"
      }
    },
    {
      "cell_type": "code",
      "source": [
        "from google.colab import drive\n",
        "drive.mount('/content/drive')"
      ],
      "metadata": {
        "colab": {
          "base_uri": "https://localhost:8080/"
        },
        "id": "JLRw8a_CILKQ",
        "outputId": "442156d4-e40e-467f-81d2-710be7163233"
      },
      "execution_count": 1,
      "outputs": [
        {
          "output_type": "stream",
          "name": "stdout",
          "text": [
            "Mounted at /content/drive\n"
          ]
        }
      ]
    },
    {
      "cell_type": "code",
      "execution_count": 2,
      "metadata": {
        "colab": {
          "base_uri": "https://localhost:8080/"
        },
        "id": "GOdO6phsIJ8c",
        "outputId": "5d4faf94-d18f-468f-cdbf-f44a4b40029d"
      },
      "outputs": [
        {
          "output_type": "stream",
          "name": "stderr",
          "text": [
            "[nltk_data] Downloading package stopwords to /root/nltk_data...\n",
            "[nltk_data]   Unzipping corpora/stopwords.zip.\n"
          ]
        }
      ],
      "source": [
        "import pandas as pd\n",
        "from transformers import pipeline\n",
        "import nltk\n",
        "from nltk.corpus import stopwords\n",
        "import re\n",
        "import numpy as np\n",
        "from bs4 import BeautifulSoup\n",
        "import matplotlib.pyplot as plt\n",
        "from sklearn.model_selection import train_test_split\n",
        "from sklearn.feature_extraction.text import TfidfVectorizer\n",
        "import pickle\n",
        "from sklearn.svm import SVC\n",
        "from sklearn.pipeline import make_pipeline\n",
        "from sklearn.preprocessing import StandardScaler\n",
        "from sklearn.svm import SVC\n",
        "from sklearn.ensemble import RandomForestClassifier\n",
        "from sklearn.neighbors import KNeighborsClassifier\n",
        "from sklearn.model_selection import cross_val_score\n",
        "from sklearn.metrics import precision_recall_fscore_support, accuracy_score\n",
        "nltk.download('stopwords')\n",
        "from sklearn.metrics import accuracy_score\n",
        "import gensim.downloader as api\n",
        "import math\n",
        "from scipy.stats import pearsonr"
      ]
    },
    {
      "cell_type": "markdown",
      "metadata": {
        "id": "Jq-n6ZMwIJ8h"
      },
      "source": [
        "# Part 1 : Study overtime"
      ]
    },
    {
      "cell_type": "markdown",
      "metadata": {
        "id": "luFp0HXfIJ8j"
      },
      "source": [
        "## 2019"
      ]
    },
    {
      "cell_type": "markdown",
      "metadata": {
        "id": "2liSnnykIJ8k"
      },
      "source": [
        "### Load data of 2019"
      ]
    },
    {
      "cell_type": "code",
      "execution_count": 3,
      "metadata": {
        "id": "2MaAHaGSIJ8k"
      },
      "outputs": [],
      "source": [
        "comms_feb = pd.read_csv('/content/drive/MyDrive/data/2019/febrouary/reviews.csv')\n",
        "df_comms_feb = pd.DataFrame(comms_feb)\n",
        "\n",
        "comms_mar = pd.read_csv('/content/drive/MyDrive/data/2019/march/reviews.csv')\n",
        "df_comms_mar = pd.DataFrame(comms_mar)\n",
        "\n",
        "comms_apr = pd.read_csv('/content/drive/MyDrive/data/2019/april/reviews.csv')\n",
        "df_comms_april = pd.DataFrame(comms_apr)\n",
        "\n",
        "comments_2019 = pd.concat([df_comms_feb,df_comms_mar,df_comms_april])\n"
      ]
    },
    {
      "cell_type": "markdown",
      "metadata": {
        "id": "4faO5dwXIJ8l"
      },
      "source": [
        "### Useful functions for cleaning data"
      ]
    },
    {
      "cell_type": "code",
      "execution_count": 4,
      "metadata": {
        "id": "984hBxeBIJ8m"
      },
      "outputs": [],
      "source": [
        "def tolower(x):\n",
        "    x = x.lower()\n",
        "    return x\n",
        "\n",
        "def remove_emojis(text):\n",
        "    emoji_pattern = re.compile(\"[\"\n",
        "        u\"\\U0001F600-\\U0001F64F\"  # emoticons\n",
        "        u\"\\U0001F300-\\U0001F5FF\"  # symbols & pictographs\n",
        "        u\"\\U0001F680-\\U0001F6FF\"  # transport & map symbols\n",
        "        u\"\\U0001F700-\\U0001F77F\"  # alchemical symbols\n",
        "        u\"\\U0001F780-\\U0001F7FF\"  # Geometric Shapes Extended\n",
        "        u\"\\U0001F800-\\U0001F8FF\"  # Supplemental Arrows-C\n",
        "        u\"\\U0001F900-\\U0001F9FF\"  # Supplemental Symbols and Pictographs\n",
        "        u\"\\U0001FA00-\\U0001FA6F\"  # Chess Symbols\n",
        "        u\"\\U0001FA70-\\U0001FAFF\"  # Symbols and Pictographs Extended-A\n",
        "        u\"\\U00002702-\\U000027B0\"  # Dingbats\n",
        "        u\"\\U000024C2-\\U0001F251\"\n",
        "        \"]+\", flags=re.UNICODE)\n",
        "    return emoji_pattern.sub(r'', text)\n",
        "\n",
        "english_stop_words = set(stopwords.words('english'))\n",
        "\n",
        "def remove_english_stop_words(text):\n",
        "    words = text.split()\n",
        "    filtered_words = [word for word in words if word not in english_stop_words]\n",
        "    return ' '.join(filtered_words)\n",
        "\n",
        "def clean_html(text):\n",
        "    return BeautifulSoup(text, \"lxml\").text\n",
        "# Provided set of stop words\n",
        "\n",
        "# Calculate the additional stop words\n",
        "additional_stop_words = {\"0o\", \"0s\", \"3a\", \"3b\", \"3d\", \"6b\", \"6o\", \"a\", \"a1\", \"a2\", \"a3\", \"a4\", \"ab\", \"able\", \"about\", \"above\", \"abst\", \"ac\", \"accordance\", \"according\", \"accordingly\", \"across\", \"act\", \"actually\", \"ad\", \"added\", \"adj\", \"ae\", \"af\", \"affected\", \"affecting\", \"affects\", \"after\", \"afterwards\", \"ag\", \"again\", \"against\", \"ah\", \"ain\", \"ain't\", \"aj\", \"al\", \"all\", \"allow\", \"allows\", \"almost\", \"alone\", \"along\", \"already\", \"also\", \"although\", \"always\", \"am\", \"among\", \"amongst\", \"amoungst\", \"amount\", \"an\", \"and\", \"announce\", \"another\", \"any\", \"anybody\", \"anyhow\", \"anymore\", \"anyone\", \"anything\", \"anyway\", \"anyways\", \"anywhere\", \"ao\", \"ap\", \"apart\", \"apparently\", \"appear\", \"appreciate\", \"appropriate\", \"approximately\", \"ar\", \"are\", \"aren\", \"arent\", \"aren't\", \"arise\", \"around\", \"as\", \"a's\", \"aside\", \"ask\", \"asking\", \"associated\", \"at\", \"au\", \"auth\", \"av\", \"available\", \"aw\", \"away\", \"awfully\", \"ax\", \"ay\", \"az\", \"b\", \"b1\", \"b2\", \"b3\", \"ba\", \"back\", \"bc\", \"bd\", \"be\", \"became\", \"because\", \"become\", \"becomes\", \"becoming\", \"been\", \"before\", \"beforehand\", \"begin\", \"beginning\", \"beginnings\", \"begins\", \"behind\", \"being\", \"believe\", \"below\", \"beside\", \"besides\", \"best\", \"better\", \"between\", \"beyond\", \"bi\", \"bill\", \"biol\", \"bj\", \"bk\", \"bl\", \"bn\", \"both\", \"bottom\", \"bp\", \"br\", \"brief\", \"briefly\", \"bs\", \"bt\", \"bu\", \"but\", \"bx\", \"by\", \"c\", \"c1\", \"c2\", \"c3\", \"ca\", \"call\", \"came\", \"can\", \"cannot\", \"cant\", \"can't\", \"cause\", \"causes\", \"cc\", \"cd\", \"ce\", \"certain\", \"certainly\", \"cf\", \"cg\", \"ch\", \"changes\", \"ci\", \"cit\", \"cj\", \"cl\", \"clearly\", \"cm\", \"c'mon\", \"cn\", \"co\", \"com\", \"come\", \"comes\", \"con\", \"concerning\", \"consequently\", \"consider\", \"considering\", \"contain\", \"containing\", \"contains\", \"corresponding\", \"could\", \"couldn\", \"couldnt\", \"couldn't\", \"course\", \"cp\", \"cq\", \"cr\", \"cry\", \"cs\", \"c's\", \"ct\", \"cu\", \"currently\", \"cv\", \"cx\", \"cy\", \"cz\", \"d\", \"d2\", \"da\", \"date\", \"dc\", \"dd\", \"de\", \"definitely\", \"describe\", \"described\", \"despite\", \"detail\", \"df\", \"di\", \"did\", \"didn\", \"didn't\", \"different\", \"dj\", \"dk\", \"dl\", \"do\", \"does\", \"doesn\", \"doesn't\", \"doing\", \"don\", \"done\", \"don't\", \"down\", \"downwards\", \"dp\", \"dr\", \"ds\", \"dt\", \"du\", \"due\", \"during\", \"dx\", \"dy\", \"e\", \"e2\", \"e3\", \"ea\", \"each\", \"ec\", \"ed\", \"edu\", \"ee\", \"ef\", \"effect\", \"eg\", \"ei\", \"eight\", \"eighty\", \"either\", \"ej\", \"el\", \"eleven\", \"else\", \"elsewhere\", \"em\", \"empty\", \"en\", \"end\", \"ending\", \"enough\", \"entirely\", \"eo\", \"ep\", \"eq\", \"er\", \"es\", \"especially\", \"est\", \"et\", \"et-al\", \"etc\", \"eu\", \"ev\", \"even\", \"ever\", \"every\", \"everybody\", \"everyone\", \"everything\", \"everywhere\", \"ex\", \"exactly\", \"example\", \"except\", \"ey\", \"f\", \"f2\", \"fa\", \"far\", \"fc\", \"few\", \"ff\", \"fi\", \"fifteen\", \"fifth\", \"fify\", \"fill\", \"find\", \"fire\", \"first\", \"five\", \"fix\", \"fj\", \"fl\", \"fn\", \"fo\", \"followed\", \"following\", \"follows\", \"for\", \"former\", \"formerly\", \"forth\", \"forty\", \"found\", \"four\", \"fr\", \"from\", \"front\", \"fs\", \"ft\", \"fu\", \"full\", \"further\", \"furthermore\", \"fy\", \"g\", \"ga\", \"gave\", \"ge\", \"get\", \"gets\", \"getting\", \"gi\", \"give\", \"given\", \"gives\", \"giving\", \"gj\", \"gl\", \"go\", \"goes\", \"going\", \"gone\", \"got\", \"gotten\", \"gr\", \"greetings\", \"gs\", \"gy\", \"h\", \"h2\", \"h3\", \"had\", \"hadn\", \"hadn't\", \"happens\", \"hardly\", \"has\", \"hasn\", \"hasnt\", \"hasn't\", \"have\", \"haven\", \"haven't\", \"having\", \"he\", \"hed\", \"he'd\", \"he'll\", \"hello\", \"help\", \"hence\", \"her\", \"here\", \"hereafter\", \"hereby\", \"herein\", \"heres\", \"here's\", \"hereupon\", \"hers\", \"herself\", \"hes\", \"he's\", \"hh\", \"hi\", \"hid\", \"him\", \"himself\", \"his\", \"hither\", \"hj\", \"ho\", \"home\", \"hopefully\", \"how\", \"howbeit\", \"however\", \"how's\", \"hr\", \"hs\", \"http\", \"hu\", \"hundred\", \"hy\", \"i\", \"i2\", \"i3\", \"i4\", \"i6\", \"i7\", \"i8\", \"ia\", \"ib\", \"ibid\", \"ic\", \"id\", \"i'd\", \"ie\", \"if\", \"ig\", \"ignored\", \"ih\", \"ii\", \"ij\", \"il\", \"i'll\", \"im\", \"i'm\", \"immediate\", \"immediately\", \"importance\", \"important\", \"in\", \"inasmuch\", \"inc\", \"indeed\", \"index\", \"indicate\", \"indicated\", \"indicates\", \"information\", \"inner\", \"insofar\", \"instead\", \"interest\", \"into\", \"invention\", \"inward\", \"io\", \"ip\", \"iq\", \"ir\", \"is\", \"isn\", \"isn't\", \"it\", \"itd\", \"it'd\", \"it'll\", \"its\", \"it's\", \"itself\", \"iv\", \"i've\", \"ix\", \"iy\", \"iz\", \"j\", \"jj\", \"jr\", \"js\", \"jt\", \"ju\", \"just\", \"k\", \"ke\", \"keep\", \"keeps\", \"kept\", \"kg\", \"kj\", \"km\", \"know\", \"known\", \"knows\", \"ko\", \"l\", \"l2\", \"la\", \"largely\", \"last\", \"lately\", \"later\", \"latter\", \"latterly\", \"lb\", \"lc\", \"le\", \"least\", \"les\", \"less\", \"lest\", \"let\", \"lets\", \"let's\", \"lf\", \"like\", \"liked\", \"likely\", \"line\", \"little\", \"lj\", \"ll\", \"ll\", \"ln\", \"lo\", \"look\", \"looking\", \"looks\", \"los\", \"lr\", \"ls\", \"lt\", \"ltd\", \"m\", \"m2\", \"ma\", \"made\", \"mainly\", \"make\", \"makes\", \"many\", \"may\", \"maybe\", \"me\", \"mean\", \"means\", \"meantime\", \"meanwhile\", \"merely\", \"mg\", \"might\", \"mightn\", \"mightn't\", \"mill\", \"million\", \"mine\", \"miss\", \"ml\", \"mn\", \"mo\", \"more\", \"moreover\", \"most\", \"mostly\", \"move\", \"mr\", \"mrs\", \"ms\", \"mt\", \"mu\", \"much\", \"mug\", \"must\", \"mustn\", \"mustn't\", \"my\", \"myself\", \"n\", \"n2\", \"na\", \"name\", \"namely\", \"nay\", \"nc\", \"nd\", \"ne\", \"near\", \"nearly\", \"necessarily\", \"necessary\", \"need\", \"needn\", \"needn't\", \"needs\", \"neither\", \"never\", \"nevertheless\", \"new\", \"next\", \"ng\", \"ni\", \"nine\", \"ninety\", \"nj\", \"nl\", \"nn\", \"no\", \"nobody\", \"non\", \"none\", \"nonetheless\", \"noone\", \"nor\", \"normally\", \"nos\", \"not\", \"noted\", \"nothing\", \"novel\", \"now\", \"nowhere\", \"nr\", \"ns\", \"nt\", \"ny\", \"o\", \"oa\", \"ob\", \"obtain\", \"obtained\", \"obviously\", \"oc\", \"od\", \"of\", \"off\", \"often\", \"og\", \"oh\", \"oi\", \"oj\", \"ok\", \"okay\", \"ol\", \"old\", \"om\", \"omitted\", \"on\", \"once\", \"one\", \"ones\", \"only\", \"onto\", \"oo\", \"op\", \"oq\", \"or\", \"ord\", \"os\", \"ot\", \"other\", \"others\", \"otherwise\", \"ou\", \"ought\", \"our\", \"ours\", \"ourselves\", \"out\", \"outside\", \"over\", \"overall\", \"ow\", \"owing\", \"own\", \"ox\", \"oz\", \"p\", \"p1\", \"p2\", \"p3\", \"page\", \"pagecount\", \"pages\", \"par\", \"part\", \"particular\", \"particularly\", \"pas\", \"past\", \"pc\", \"pd\", \"pe\", \"per\", \"perhaps\", \"pf\", \"ph\", \"pi\", \"pj\", \"pk\", \"pl\", \"placed\", \"please\", \"plus\", \"pm\", \"pn\", \"po\", \"poorly\", \"possible\", \"possibly\", \"potentially\", \"pp\", \"pq\", \"pr\", \"predominantly\", \"present\", \"presumably\", \"previously\", \"primarily\", \"probably\", \"promptly\", \"proud\", \"provides\", \"ps\", \"pt\", \"pu\", \"put\", \"py\", \"q\", \"qj\", \"qu\", \"que\", \"quickly\", \"quite\", \"qv\", \"r\", \"r2\", \"ra\", \"ran\", \"rather\", \"rc\", \"rd\", \"re\", \"readily\", \"really\", \"reasonably\", \"recent\", \"recently\", \"ref\", \"refs\", \"regarding\", \"regardless\", \"regards\", \"related\", \"relatively\", \"research\", \"research-articl\", \"respectively\", \"resulted\", \"resulting\", \"results\", \"rf\", \"rh\", \"ri\", \"right\", \"rj\", \"rl\", \"rm\", \"rn\", \"ro\", \"rq\", \"rr\", \"rs\", \"rt\", \"ru\", \"run\", \"rv\", \"ry\", \"s\", \"s2\", \"sa\", \"said\", \"same\", \"saw\", \"say\", \"saying\", \"says\", \"sc\", \"sd\", \"se\", \"sec\", \"second\", \"secondly\", \"section\", \"see\", \"seeing\", \"seem\", \"seemed\", \"seeming\", \"seems\", \"seen\", \"self\", \"selves\", \"sensible\", \"sent\", \"serious\", \"seriously\", \"seven\", \"several\", \"sf\", \"shall\", \"shan\", \"shan't\", \"she\", \"shed\", \"she'd\", \"she'll\", \"shes\", \"she's\", \"should\", \"shouldn\", \"shouldn't\", \"should've\", \"show\", \"showed\", \"shown\", \"showns\", \"shows\", \"si\", \"side\", \"significant\", \"significantly\", \"similar\", \"similarly\", \"since\", \"sincere\", \"six\", \"sixty\", \"sj\", \"sl\", \"slightly\", \"sm\", \"sn\", \"so\", \"some\", \"somebody\", \"somehow\", \"someone\", \"somethan\", \"something\", \"sometime\", \"sometimes\", \"somewhat\", \"somewhere\", \"soon\", \"sorry\", \"sp\", \"specifically\", \"specified\", \"specify\", \"specifying\", \"sq\", \"sr\", \"ss\", \"st\", \"still\", \"stop\", \"strongly\", \"sub\", \"substantially\", \"successfully\", \"such\", \"sufficiently\", \"suggest\", \"sup\", \"sure\", \"sy\", \"system\", \"sz\", \"t\", \"t1\", \"t2\", \"t3\", \"take\", \"taken\", \"taking\", \"tb\", \"tc\", \"td\", \"te\", \"tell\", \"ten\", \"tends\", \"tf\", \"th\", \"than\", \"thank\", \"thanks\", \"thanx\", \"that\", \"that'll\", \"thats\", \"that's\", \"that've\", \"the\", \"their\", \"theirs\", \"them\", \"themselves\", \"then\", \"thence\", \"there\", \"thereafter\", \"thereby\", \"thered\", \"therefore\", \"therein\", \"there'll\", \"thereof\", \"therere\", \"theres\", \"there's\", \"thereto\", \"thereupon\", \"there've\", \"these\", \"they\", \"theyd\", \"they'd\", \"they'll\", \"theyre\", \"they're\", \"they've\", \"thickv\", \"thin\", \"think\", \"third\", \"this\", \"thorough\", \"thoroughly\", \"those\", \"thou\", \"though\", \"thoughh\", \"thousand\", \"three\", \"throug\", \"through\", \"throughout\", \"thru\", \"thus\", \"ti\", \"til\", \"tip\", \"tj\", \"tl\", \"tm\", \"tn\", \"to\", \"together\", \"too\", \"took\", \"top\", \"toward\", \"towards\", \"tp\", \"tq\", \"tr\", \"tried\", \"tries\", \"truly\", \"try\", \"trying\", \"ts\", \"t's\", \"tt\", \"tv\", \"twelve\", \"twenty\", \"twice\", \"two\", \"tx\", \"u\", \"u201d\", \"ue\", \"ui\", \"uj\", \"uk\", \"um\", \"un\", \"under\", \"unfortunately\", \"unless\", \"unlike\", \"unlikely\", \"until\", \"unto\", \"uo\", \"up\", \"upon\", \"ups\", \"ur\", \"us\", \"use\", \"used\", \"useful\", \"usefully\", \"usefulness\", \"uses\", \"using\", \"usually\", \"ut\", \"v\", \"va\", \"value\", \"various\", \"vd\", \"ve\", \"ve\", \"very\", \"via\", \"viz\", \"vj\", \"vo\", \"vol\", \"vols\", \"volumtype\", \"vq\", \"vs\", \"vt\", \"vu\", \"w\", \"wa\", \"want\", \"wants\", \"was\", \"wasn\", \"wasnt\", \"wasn't\", \"way\", \"we\", \"wed\", \"we'd\", \"welcome\", \"well\", \"we'll\", \"well-b\", \"went\", \"were\", \"we're\", \"weren\", \"werent\", \"weren't\", \"we've\", \"what\", \"whatever\", \"what'll\", \"whats\", \"what's\", \"when\", \"whence\", \"whenever\", \"when's\", \"where\", \"whereafter\", \"whereas\", \"whereby\", \"wherein\", \"wheres\", \"where's\", \"whereupon\", \"wherever\", \"whether\", \"which\", \"while\", \"whim\", \"whither\", \"who\", \"whod\", \"whoever\", \"whole\", \"who'll\", \"whom\", \"whomever\", \"whos\", \"who's\", \"whose\", \"why\", \"why's\", \"wi\", \"widely\", \"will\", \"willing\", \"wish\", \"with\", \"within\", \"without\", \"wo\", \"won\", \"wonder\", \"wont\", \"won't\", \"words\", \"world\", \"would\", \"wouldn\", \"wouldnt\", \"wouldn't\", \"www\", \"x\", \"x1\", \"x2\", \"x3\", \"xf\", \"xi\", \"xj\", \"xk\", \"xl\", \"xn\", \"xo\", \"xs\", \"xt\", \"xv\", \"xx\", \"y\", \"y2\", \"yes\", \"yet\", \"yj\", \"yl\", \"you\", \"youd\", \"you'd\", \"you'll\", \"your\", \"youre\", \"you're\", \"yours\", \"yourself\", \"yourselves\", \"you've\", \"yr\", \"ys\", \"yt\", \"z\", \"zero\", \"zi\", \"zz\"}\n",
        "english_stop_words = english_stop_words.union(additional_stop_words)\n",
        "sentiment_keywords = [\n",
        "    \"bad\", \"poor\", \"worst\", \"rude\", \"delayed\", \"uncomfortable\", \"lost\", \"issue\",\n",
        "    \"disappointed\", \"delay\", \"hard\", \"terrible\", \"missed\", \"limited\", \"cold\",\n",
        "    \"fault\", \"cramped\", \"issues\", \"refused\", \"complaint\"\n",
        "]\n",
        "# Filter reviews containing sentiment keywords\n",
        "def contains_sentiment_keyword(review, keywords):\n",
        "    review_words = review.lower().split()\n",
        "    for word in review_words:\n",
        "        if word in keywords:\n",
        "            return True\n",
        "    return False"
      ]
    },
    {
      "cell_type": "markdown",
      "metadata": {
        "id": "I49GFEPFIJ8n"
      },
      "source": [
        "### Data Cleansing"
      ]
    },
    {
      "cell_type": "code",
      "execution_count": 5,
      "metadata": {
        "id": "4ba4s4rxIJ8o"
      },
      "outputs": [],
      "source": [
        "comments_2019 = comments_2019['comments'].drop_duplicates()\n",
        "comments_2019 = comments_2019.to_frame()\n",
        "comments_2019 = comments_2019.dropna(subset= ['comments'])\n",
        "comments_2019['comments'] = comments_2019['comments'].apply(tolower)\n",
        "comments_2019['comments'] = comments_2019['comments'].str.replace(r\"[^a-z\\s]\", '', regex=True)\n",
        "comments_2019= comments_2019[comments_2019['comments'].apply(lambda x: contains_sentiment_keyword(x, sentiment_keywords))]\n",
        "comments_2019['comments'] = comments_2019['comments'].apply(remove_english_stop_words)\n",
        "comments_2019['comments'] = comments_2019['comments'].str.strip()\n",
        "comments_2019['comments'] = comments_2019['comments'].replace('',np.nan)\n",
        "comments_2019 = comments_2019.dropna(subset= ['comments'])\n",
        "comments_2019 = comments_2019['comments'].drop_duplicates().to_frame()\n",
        "\n",
        "com19 = comments_2019.sample(n=1000)\n",
        "com19['id'] = com19.index"
      ]
    },
    {
      "cell_type": "markdown",
      "metadata": {
        "id": "nbONdZWFIJ8o"
      },
      "source": [
        "### Assign the appropriate sentiment to each comment, according to the model"
      ]
    },
    {
      "cell_type": "code",
      "execution_count": 6,
      "metadata": {
        "colab": {
          "base_uri": "https://localhost:8080/",
          "height": 306,
          "referenced_widgets": [
            "5a853fb9545647759813a154251b78e2",
            "0418a634a9dc414ead87544d1e065b4a",
            "02ea7471c4c54aeb86d87e63ba6d95a6",
            "402a4c4d28f74d2da62f5c1dfb1154bc",
            "ce841cdebb3643edb22edd15ed74b339",
            "60997007a71c44d4be3a45b3cf41186a",
            "eaf380321d8940bea339f2ff1e86b137",
            "9ca1796c6b484da3b59bd140f8544871",
            "93a786913f674bd5838fc573024a197e",
            "78349014410e40e180c584b6212fc192",
            "0824fdd2b1c549459e324abe71a4b601",
            "729f2d947b8a44108d5fff507e4833ce",
            "9704cbb22d144247ad6eab5e119f755d",
            "bdbfb08cfc054a23b5c3d88b936ee65b",
            "57db86b1f06043f2a57a5954c91a70d1",
            "930faad5bab6447e86c534d6a17fce36",
            "f7169ebd417647318bd9572bd488d540",
            "f111c93fafa14951ad009d0caf89a935",
            "59b04e9f6e8d4cfe971d4abcd197ce32",
            "fbcb349e2c794696ba36b36e9de0f219",
            "fe0a94f5043e423392f63aa6a0044b86",
            "a5d75768e4124e0a84709830f91184a0",
            "fbbd2e4cb46f417694a46d69f2d8b77e",
            "b7a415a7eeee4503b34fc4ef02b81abc",
            "0616d68cf5af495fb22f758209d61c65",
            "4c7308313f42484aa57b3f2a05c40800",
            "119a0add2be0425ab16ec63fdba6ecd6",
            "f8e5730149054d609cdcb25a50f044e1",
            "18629e2765ba4646b86f30debe5eb81b",
            "b214b7f3cba04d9593f5f429026c5409",
            "c5eceaf78f92484a8bcafe2d27570514",
            "812a7da81a90403fb7f28e6192b407db",
            "9998ca3ab6c44cf2810dcf6413c6b834",
            "f5472356eca049f781a53632bc5d846e",
            "c93895935b7749a0a235e2c9968c52b6",
            "8e5c6e69a35d4aeeb9bfcdf572c9a70d",
            "8f77b44e20424db3a3cf268898a2ee95",
            "f80dad9691224a018f75f6bba57560be",
            "f9e7bcc529e8494f865bc8d70fc0614e",
            "bdbb7ade6d1942fe91ceefaca21b94e3",
            "9e493eafab8742e4bbdb2ec12c759044",
            "dbb49abc29b440d2a3aeeba2e5685684",
            "9dfdcbd196ac4463acbf64881589183b",
            "1469580c840549c6b4cfd3ba71d0dc44",
            "830bda5698934231b6016ff791d9c2db",
            "d0d11a2dd8174132924028103cbffc68",
            "fdb7db21160e4227b6d9a96538938a23",
            "7fc635bd674c4407a03a0d181ef7fe6f",
            "5fa5e90c7aea469d86b902df9ee47d5b",
            "2d461a1d0fe944809bbfe49b61cd126e",
            "529bebac51c2452cae25f1803e6a4d18",
            "c5a4ba1801134a4f81f8055f49bede82",
            "e05227516cf24253bf14a0eb03f8e70d",
            "243071494cc14daaa127f5504c0a4fa9",
            "de3473ba593f40ee939ce8fd55979e44"
          ]
        },
        "id": "1eBnpptMIJ8p",
        "outputId": "02e39b60-008c-46ae-c1f5-2248bd8bbc3d"
      },
      "outputs": [
        {
          "output_type": "stream",
          "name": "stderr",
          "text": [
            "/usr/local/lib/python3.10/dist-packages/huggingface_hub/utils/_token.py:89: UserWarning: \n",
            "The secret `HF_TOKEN` does not exist in your Colab secrets.\n",
            "To authenticate with the Hugging Face Hub, create a token in your settings tab (https://huggingface.co/settings/tokens), set it as secret in your Google Colab and restart your session.\n",
            "You will be able to reuse this secret in all of your notebooks.\n",
            "Please note that authentication is recommended but still optional to access public models or datasets.\n",
            "  warnings.warn(\n"
          ]
        },
        {
          "output_type": "display_data",
          "data": {
            "text/plain": [
              "config.json:   0%|          | 0.00/953 [00:00<?, ?B/s]"
            ],
            "application/vnd.jupyter.widget-view+json": {
              "version_major": 2,
              "version_minor": 0,
              "model_id": "5a853fb9545647759813a154251b78e2"
            }
          },
          "metadata": {}
        },
        {
          "output_type": "display_data",
          "data": {
            "text/plain": [
              "pytorch_model.bin:   0%|          | 0.00/669M [00:00<?, ?B/s]"
            ],
            "application/vnd.jupyter.widget-view+json": {
              "version_major": 2,
              "version_minor": 0,
              "model_id": "729f2d947b8a44108d5fff507e4833ce"
            }
          },
          "metadata": {}
        },
        {
          "output_type": "display_data",
          "data": {
            "text/plain": [
              "tokenizer_config.json:   0%|          | 0.00/39.0 [00:00<?, ?B/s]"
            ],
            "application/vnd.jupyter.widget-view+json": {
              "version_major": 2,
              "version_minor": 0,
              "model_id": "fbbd2e4cb46f417694a46d69f2d8b77e"
            }
          },
          "metadata": {}
        },
        {
          "output_type": "display_data",
          "data": {
            "text/plain": [
              "vocab.txt:   0%|          | 0.00/872k [00:00<?, ?B/s]"
            ],
            "application/vnd.jupyter.widget-view+json": {
              "version_major": 2,
              "version_minor": 0,
              "model_id": "f5472356eca049f781a53632bc5d846e"
            }
          },
          "metadata": {}
        },
        {
          "output_type": "display_data",
          "data": {
            "text/plain": [
              "special_tokens_map.json:   0%|          | 0.00/112 [00:00<?, ?B/s]"
            ],
            "application/vnd.jupyter.widget-view+json": {
              "version_major": 2,
              "version_minor": 0,
              "model_id": "830bda5698934231b6016ff791d9c2db"
            }
          },
          "metadata": {}
        }
      ],
      "source": [
        "sentiment_pipeline = pipeline(\"sentiment-analysis\", model=\"nlptown/bert-base-multilingual-uncased-sentiment\")\n",
        "\n",
        "label_mapping = {\n",
        "    '1 star': 'negative',\n",
        "    '2 stars': 'negative',\n",
        "    '3 stars': 'neutral',\n",
        "    '4 stars': 'positive',\n",
        "    '5 stars': 'positive'\n",
        "}\n",
        "\n",
        "chunk_size = 10\n",
        "chunks = [com19[i:i + chunk_size] for i in range(0, com19.shape[0], chunk_size)]\n",
        "\n",
        "def analyze_sentiments(chunk):\n",
        "    results = []\n",
        "    for _, row in chunk.iterrows():\n",
        "        sentiment = sentiment_pipeline(row['comments'], max_length=512, truncation=True)[0]\n",
        "        sentiment_label = label_mapping[sentiment['label']]\n",
        "        results.append((row['id'], row['comments'], sentiment_label))\n",
        "    return results\n",
        "\n",
        "all_results = []\n",
        "for chunk in chunks:\n",
        "    all_results.extend(analyze_sentiments(chunk))\n",
        "\n",
        "results_df_2019 = pd.DataFrame(all_results, columns=['id', 'review', 'sentiment'])\n",
        "\n",
        "results_df_2019.to_csv('sentiment_analysis_results_2019.csv', index=False)"
      ]
    },
    {
      "cell_type": "markdown",
      "metadata": {
        "id": "-2plNi5WIJ8q"
      },
      "source": [
        "### Graphic representation of the sentiment's distribution"
      ]
    },
    {
      "cell_type": "code",
      "execution_count": 7,
      "metadata": {
        "colab": {
          "base_uri": "https://localhost:8080/",
          "height": 406
        },
        "id": "rOI9xxzdIJ8r",
        "outputId": "17415204-0063-46dc-f37e-d775c6496277"
      },
      "outputs": [
        {
          "output_type": "display_data",
          "data": {
            "text/plain": [
              "<Figure size 640x480 with 1 Axes>"
            ],
            "image/png": "[encoded data removed]"
          },
          "metadata": {}
        }
      ],
      "source": [
        "counts_19 = results_df_2019.groupby('sentiment')['sentiment'].count().reset_index(name='Sentiment_count')\n",
        "\n",
        "mylabels = counts_19['sentiment'].tolist()\n",
        "\n",
        "c = counts_19['Sentiment_count']\n",
        "plt.pie(c)\n",
        "plt.legend(title=\"Reviews' sentiment analysis\", labels=mylabels, loc=\"center left\", bbox_to_anchor=(1, 0, 0.5, 1))\n",
        "plt.show()"
      ]
    },
    {
      "cell_type": "markdown",
      "metadata": {
        "id": "rbuiM3k8IJ8r"
      },
      "source": [
        "## 2023"
      ]
    },
    {
      "cell_type": "markdown",
      "metadata": {
        "id": "f4JEccgTIJ8s"
      },
      "source": [
        "### Load data of 2023"
      ]
    },
    {
      "cell_type": "code",
      "execution_count": 8,
      "metadata": {
        "id": "EMT3WUm0IJ8s"
      },
      "outputs": [],
      "source": [
        "comms_feb = pd.read_csv('/content/drive/MyDrive/data/2023/june/reviews.csv')\n",
        "df_comms_jun = pd.DataFrame(comms_feb)\n",
        "\n",
        "comms_mar = pd.read_csv('/content/drive/MyDrive/data/2023/march/reviews.csv')\n",
        "df_comms_mar = pd.DataFrame(comms_mar)\n",
        "\n",
        "comms_apr = pd.read_csv('/content/drive/MyDrive/data/2023/september/reviews.csv')\n",
        "df_comms_sept = pd.DataFrame(comms_apr)\n"
      ]
    },
    {
      "cell_type": "markdown",
      "metadata": {
        "id": "GKu4b_7gIJ8t"
      },
      "source": [
        "### Data Cleansing"
      ]
    },
    {
      "cell_type": "code",
      "execution_count": 9,
      "metadata": {
        "colab": {
          "base_uri": "https://localhost:8080/"
        },
        "id": "yMixzXFtIJ8u",
        "outputId": "8348f5b1-294c-464b-d862-c46ddb8aa136"
      },
      "outputs": [
        {
          "output_type": "stream",
          "name": "stderr",
          "text": [
            "<ipython-input-4-39ad2c1fa82d>:29: MarkupResemblesLocatorWarning: The input looks more like a filename than markup. You may want to open this file and pass the filehandle into Beautiful Soup.\n",
            "  return BeautifulSoup(text, \"lxml\").text\n",
            "<ipython-input-4-39ad2c1fa82d>:29: MarkupResemblesLocatorWarning: The input looks more like a URL than markup. You may want to use an HTTP client like requests to get the document behind the URL, and feed that document to Beautiful Soup.\n",
            "  return BeautifulSoup(text, \"lxml\").text\n",
            "<ipython-input-9-e43595e57283>:12: SettingWithCopyWarning: \n",
            "A value is trying to be set on a copy of a slice from a DataFrame.\n",
            "Try using .loc[row_indexer,col_indexer] = value instead\n",
            "\n",
            "See the caveats in the documentation: https://pandas.pydata.org/pandas-docs/stable/user_guide/indexing.html#returning-a-view-versus-a-copy\n",
            "  comments_2023['comments'] = comments_2023['comments'].str.strip()\n"
          ]
        }
      ],
      "source": [
        "comments_2023 = pd.concat([df_comms_jun,df_comms_mar,df_comms_sept])\n",
        "comments_2023 = comments_2023['comments'].drop_duplicates()\n",
        "com23 = comments_2023.sample(n=10000)\n",
        "comments_2023 = comments_2023.to_frame()\n",
        "\n",
        "comments_2023 = comments_2023.dropna(subset= ['comments'])\n",
        "comments_2023['comments'] = comments_2023['comments'].apply(tolower)\n",
        "comments_2023['comments'] = comments_2023['comments'].apply(clean_html)\n",
        "comments_2023['comments'] = comments_2023['comments'].str.replace(r\"[^a-z\\s]\", '', regex=True)\n",
        "\n",
        "comments_2023= comments_2023[comments_2023['comments'].apply(lambda x: contains_sentiment_keyword(x, sentiment_keywords))]\n",
        "comments_2023['comments'] = comments_2023['comments'].str.strip()\n",
        "comments_2023['comments'] = comments_2023['comments'].apply(remove_english_stop_words)\n",
        "comments_2023['comments'] = comments_2023['comments'].replace('',np.nan)\n",
        "comments_2023 = comments_2023.dropna(subset= ['comments'])\n",
        "comments_2023 = comments_2023['comments'].drop_duplicates().to_frame()\n",
        "\n",
        "com23 = comments_2023.sample(n=1000)\n",
        "com23['id'] = com23.index"
      ]
    },
    {
      "cell_type": "markdown",
      "metadata": {
        "id": "YvSRroM1IJ8v"
      },
      "source": [
        "### Assign the appropriate sentiment to each comment, according to the model"
      ]
    },
    {
      "cell_type": "code",
      "execution_count": 10,
      "metadata": {
        "id": "9rP3p4WjIJ8w"
      },
      "outputs": [],
      "source": [
        "chunks = [com23[i:i + chunk_size] for i in range(0, com23.shape[0], chunk_size)]\n",
        "\n",
        "all_results = []\n",
        "for chunk in chunks:\n",
        "    all_results.extend(analyze_sentiments(chunk))\n",
        "\n",
        "results_df_2023 = pd.DataFrame(all_results, columns=['id', 'review', 'sentiment'])\n",
        "\n",
        "results_df_2023.to_csv('sentiment_analysis_results_2023.csv', index=False)\n"
      ]
    },
    {
      "cell_type": "markdown",
      "metadata": {
        "id": "I1jfDqteIJ8x"
      },
      "source": [
        "### Graphic representation of the sentiment's distribution"
      ]
    },
    {
      "cell_type": "code",
      "execution_count": 11,
      "metadata": {
        "colab": {
          "base_uri": "https://localhost:8080/",
          "height": 406
        },
        "id": "HEzKHoYGIJ8z",
        "outputId": "1b0a2a5e-ce6e-488c-ebd3-5aa1516f53b8"
      },
      "outputs": [
        {
          "output_type": "display_data",
          "data": {
            "text/plain": [
              "<Figure size 640x480 with 1 Axes>"
            ],
            "image/png": "[encoded data removed]"
          },
          "metadata": {}
        }
      ],
      "source": [
        "counts_23 = results_df_2023.groupby('sentiment')['sentiment'].count().reset_index(name='Sentiment_count')\n",
        "\n",
        "mylabels = counts_23['sentiment'].tolist()\n",
        "\n",
        "c = counts_23['Sentiment_count']\n",
        "plt.pie(c)\n",
        "plt.legend(title=\"Reviews' sentiment analysis\", labels=mylabels, loc=\"center left\", bbox_to_anchor=(1, 0, 0.5, 1))\n",
        "plt.show()"
      ]
    },
    {
      "cell_type": "markdown",
      "metadata": {
        "id": "JhsdlHS_IJ80"
      },
      "source": [
        "# Part 2 : Sentiment Analysis"
      ]
    },
    {
      "cell_type": "markdown",
      "metadata": {
        "id": "q_coRtATIJ81"
      },
      "source": [
        " Making the files with the data to train and test our classification model"
      ]
    },
    {
      "cell_type": "code",
      "execution_count": 13,
      "metadata": {
        "id": "PM_GYhdkIJ81"
      },
      "outputs": [],
      "source": [
        "comments_19 = pd.read_csv('/content/sentiment_analysis_results_2019.csv')\n",
        "comments_23 = pd.read_csv('/content/sentiment_analysis_results_2023.csv')\n",
        "\n",
        "comments_19_df = pd.DataFrame(comments_19)\n",
        "comments_23_df = pd.DataFrame(comments_23)\n",
        "\n",
        "dataset = pd.concat([comments_19_df, comments_23_df])\n",
        "dataset = dataset.drop('id', axis= 1)\n",
        "dataset = dataset.drop_duplicates()\n",
        "df_train, df_test = train_test_split(dataset, test_size=0.2, random_state=42)\n",
        "y_test = df_test['sentiment']\n",
        "x_test = df_test.drop('sentiment', axis=1)\n",
        "y_train = df_train['sentiment']\n",
        "x_train = df_train.drop('sentiment', axis=1)\n",
        "df_train.to_csv('train.tsv', sep='\\t', index=False)\n",
        "x_test.to_csv('test.tsv', sep='\\t', index=False)"
      ]
    },
    {
      "cell_type": "markdown",
      "metadata": {
        "id": "qf0bH4UwIJ82"
      },
      "source": [
        "### Create TF-IDF matrix"
      ]
    },
    {
      "cell_type": "code",
      "execution_count": 14,
      "metadata": {
        "id": "OSRiMJU1IJ82"
      },
      "outputs": [],
      "source": [
        "# Ensure x_train and x_test are lists of sentences\n",
        "x_train_sentences = x_train[\"review\"].tolist()\n",
        "x_test_sentences = x_test[\"review\"].tolist()\n",
        "\n",
        "# Initialize the TfidfVectorizer\n",
        "tfidf_vectorizer = TfidfVectorizer(max_features=5000, ngram_range=(1, 2))\n",
        "\n",
        "# Fit the vectorizer on the training data and transform both train and test data\n",
        "tfidf_matrix = tfidf_vectorizer.fit_transform(x_train_sentences).toarray()\n",
        "tfidf_test_matrix = tfidf_vectorizer.transform(x_test_sentences).toarray()\n",
        "\n",
        "# Save the matrices to files\n",
        "pickle.dump(tfidf_matrix, open(\"tfidf.pkl\", \"wb\"))\n",
        "pickle.dump(tfidf_test_matrix, open(\"tfidf_test.pkl\", \"wb\"))\n"
      ]
    },
    {
      "cell_type": "markdown",
      "metadata": {
        "id": "5HkVG4cYIJ83"
      },
      "source": [
        "### Create word embeddings"
      ]
    },
    {
      "cell_type": "code",
      "execution_count": 15,
      "metadata": {
        "colab": {
          "base_uri": "https://localhost:8080/"
        },
        "id": "aLceQv48IJ83",
        "outputId": "3955ce73-d194-4215-b568-837c06560316"
      },
      "outputs": [
        {
          "output_type": "stream",
          "name": "stdout",
          "text": [
            "[==================================================] 100.0% 252.1/252.1MB downloaded\n"
          ]
        }
      ],
      "source": [
        "# Load pre-trained GloVe embeddings\n",
        "model_w2v = api.load(\"glove-wiki-gigaword-200\")  # GloVe embeddings with 200 dimensions\n",
        "\n",
        "def get_pretrained_word_embeddings(model, texts):\n",
        "    embeddings = []\n",
        "    for text in texts:\n",
        "        words = text.split()\n",
        "        word_vecs = [model[word] for word in words if word in model]\n",
        "        if word_vecs:\n",
        "            embeddings.append(np.mean(word_vecs, axis=0))  # Use mean instead of sum\n",
        "        else:\n",
        "            embeddings.append(np.zeros(model.vector_size))\n",
        "    return np.array(embeddings)\n",
        "\n",
        "# Get embeddings using pre-trained model\n",
        "train_w2v = get_pretrained_word_embeddings(model_w2v, x_train_sentences)\n",
        "test_w2v = get_pretrained_word_embeddings(model_w2v, x_test_sentences)\n",
        "\n",
        "# Save the embeddings to files\n",
        "pickle.dump(train_w2v, open(\"train_w2v.pkl\", \"wb\"))\n",
        "pickle.dump(test_w2v, open(\"test_w2v.pkl\", \"wb\"))"
      ]
    },
    {
      "cell_type": "markdown",
      "metadata": {
        "id": "TLl0UCqeIJ84"
      },
      "source": [
        "### Open the .pkl files that contain the tf-idf matrix and the word embeddings"
      ]
    },
    {
      "cell_type": "code",
      "execution_count": 16,
      "metadata": {
        "id": "NeW1YrYrIJ84"
      },
      "outputs": [],
      "source": [
        "tfidf_matrix = pickle.load(open(\"tfidf.pkl\", \"rb\"))\n",
        "tfidf_test_matrix = pickle.load(open(\"tfidf_test.pkl\", \"rb\"))\n",
        "\n",
        "train_w2v = pickle.load(open(\"train_w2v.pkl\", \"rb\"))\n",
        "test_w2v = pickle.load(open(\"test_w2v.pkl\", \"rb\"))"
      ]
    },
    {
      "cell_type": "markdown",
      "metadata": {
        "id": "DrdvsQJ3IJ85"
      },
      "source": [
        "### Checking the classfiers SVM, Random Forests and KNN"
      ]
    },
    {
      "cell_type": "markdown",
      "metadata": {
        "id": "ju2tNPN9IJ85"
      },
      "source": [
        "#### SVM Classifier"
      ]
    },
    {
      "cell_type": "markdown",
      "metadata": {
        "id": "VDnRGcMYIJ86"
      },
      "source": [
        "##### TF-IDF"
      ]
    },
    {
      "cell_type": "code",
      "execution_count": 17,
      "metadata": {
        "colab": {
          "base_uri": "https://localhost:8080/"
        },
        "id": "2hf_iSxfIJ9_",
        "outputId": "3bdc7067-d8b0-459c-9875-65bd4c690caa"
      },
      "outputs": [
        {
          "output_type": "stream",
          "name": "stdout",
          "text": [
            "results cross validation: [0.80503145 0.80503145 0.79874214 0.79245283 0.79245283 0.78616352\n",
            " 0.78616352 0.79874214 0.79245283 0.79245283]\n",
            "mean: 0.7949685534591195\n"
          ]
        }
      ],
      "source": [
        "clf = SVC()\n",
        "\n",
        "cv_scores = cross_val_score(clf, tfidf_matrix, y_train, cv=10)\n",
        "print(\"results cross validation:\", cv_scores)\n",
        "print(\"mean:\", cv_scores.mean())\n"
      ]
    },
    {
      "cell_type": "code",
      "execution_count": 18,
      "metadata": {
        "colab": {
          "base_uri": "https://localhost:8080/"
        },
        "id": "RR3c0TsaIJ9_",
        "outputId": "b6c8bf99-192f-4eea-8bc7-5b06a6ba499e"
      },
      "outputs": [
        {
          "output_type": "stream",
          "name": "stdout",
          "text": [
            "SVM with TF-IDF on Test Data\n",
            "Test Accuracy: 0.8090\n",
            "Test Precision: 0.9357\n",
            "Test Recall: 0.3675\n",
            "Test F-Measure: 0.3598\n"
          ]
        }
      ],
      "source": [
        "clf.fit(tfidf_matrix, y_train)\n",
        "y_pred_tfidf_clf = clf.predict(tfidf_test_matrix)\n",
        "test_precision, test_recall, test_fscore, _ = precision_recall_fscore_support(y_test, y_pred_tfidf_clf, average='macro', zero_division=1)\n",
        "test_accuracy = accuracy_score(y_test, y_pred_tfidf_clf)\n",
        "\n",
        "print(\"SVM with TF-IDF on Test Data\")\n",
        "print(f\"Test Accuracy: {test_accuracy:.4f}\")\n",
        "print(f\"Test Precision: {test_precision:.4f}\")\n",
        "print(f\"Test Recall: {test_recall:.4f}\")\n",
        "print(f\"Test F-Measure: {test_fscore:.4f}\")"
      ]
    },
    {
      "cell_type": "markdown",
      "metadata": {
        "id": "-UpcA08jIJ-A"
      },
      "source": [
        "##### Word embeddings"
      ]
    },
    {
      "cell_type": "code",
      "execution_count": 19,
      "metadata": {
        "colab": {
          "base_uri": "https://localhost:8080/"
        },
        "id": "p-4UKflZIJ-B",
        "outputId": "58c3b4d8-e31b-4808-c296-e00254f598d8"
      },
      "outputs": [
        {
          "output_type": "stream",
          "name": "stdout",
          "text": [
            "results cross validation: [0.82389937 0.82389937 0.81761006 0.82389937 0.8427673  0.80503145\n",
            " 0.83018868 0.82389937 0.81761006 0.83647799]\n",
            "mean: 0.8245283018867925\n"
          ]
        }
      ],
      "source": [
        "clf = make_pipeline(StandardScaler(), SVC(gamma='auto'))\n",
        "\n",
        "cv_scores = cross_val_score(clf, train_w2v, y_train, cv=10)\n",
        "print(\"results cross validation:\", cv_scores)\n",
        "print(\"mean:\", cv_scores.mean())\n"
      ]
    },
    {
      "cell_type": "code",
      "execution_count": 20,
      "metadata": {
        "colab": {
          "base_uri": "https://localhost:8080/"
        },
        "id": "bRiwEJo5IJ-B",
        "outputId": "1b764f5f-0549-4ede-cf77-7055f77397f5"
      },
      "outputs": [
        {
          "output_type": "stream",
          "name": "stdout",
          "text": [
            "SVM with Word Embeddings on Test Data\n",
            "Test Accuracy: 0.8266\n",
            "Test Precision: 0.8532\n",
            "Test Recall: 0.4648\n",
            "Test F-Measure: 0.4755\n"
          ]
        }
      ],
      "source": [
        "clf.fit(train_w2v, y_train)\n",
        "y_pred_w2v_clf = clf.predict(test_w2v)\n",
        "test_precision, test_recall, test_fscore, _ = precision_recall_fscore_support(y_test, y_pred_w2v_clf, average='macro', zero_division=1)\n",
        "test_accuracy = accuracy_score(y_test, y_pred_w2v_clf)\n",
        "\n",
        "print(\"SVM with Word Embeddings on Test Data\")\n",
        "print(f\"Test Accuracy: {test_accuracy:.4f}\")\n",
        "print(f\"Test Precision: {test_precision:.4f}\")\n",
        "print(f\"Test Recall: {test_recall:.4f}\")\n",
        "print(f\"Test F-Measure: {test_fscore:.4f}\")"
      ]
    },
    {
      "cell_type": "markdown",
      "metadata": {
        "id": "7JQS2fn0IJ-C"
      },
      "source": [
        "#### Random Forests Classifier"
      ]
    },
    {
      "cell_type": "markdown",
      "metadata": {
        "id": "5GQKFA8HIJ-C"
      },
      "source": [
        "##### TF-IDF"
      ]
    },
    {
      "cell_type": "code",
      "execution_count": 21,
      "metadata": {
        "colab": {
          "base_uri": "https://localhost:8080/"
        },
        "id": "IEM1-EMeIJ-C",
        "outputId": "6f52de7b-a659-4c6e-fc84-2b85bb9d7897"
      },
      "outputs": [
        {
          "output_type": "stream",
          "name": "stdout",
          "text": [
            "results cross validation: [0.81132075 0.80503145 0.82389937 0.79245283 0.81761006 0.81132075\n",
            " 0.81761006 0.82389937 0.79245283 0.80503145]\n",
            "mean: 0.810062893081761\n"
          ]
        }
      ],
      "source": [
        "rf_model = RandomForestClassifier()\n",
        "\n",
        "cv_scores = cross_val_score(rf_model, tfidf_matrix, y_train, cv=10)\n",
        "print(\"results cross validation:\", cv_scores)\n",
        "print(\"mean:\", cv_scores.mean())\n"
      ]
    },
    {
      "cell_type": "code",
      "execution_count": 22,
      "metadata": {
        "colab": {
          "base_uri": "https://localhost:8080/"
        },
        "id": "bYaYI3qSIJ-D",
        "outputId": "4b5e8bc0-6958-4ef8-8e0e-093456529f40"
      },
      "outputs": [
        {
          "output_type": "stream",
          "name": "stdout",
          "text": [
            "Random Forest with TF-IDF on Test Data\n",
            "Test Accuracy: 0.8141\n",
            "Test Precision: 0.8185\n",
            "Test Recall: 0.3921\n",
            "Test F-Measure: 0.3931\n"
          ]
        }
      ],
      "source": [
        "rf_model.fit(tfidf_matrix, y_train)\n",
        "y_pred_tfidf_rf = rf_model.predict(tfidf_test_matrix)\n",
        "test_precision, test_recall, test_fscore, _ = precision_recall_fscore_support(y_test, y_pred_tfidf_rf, average='macro', zero_division=1)\n",
        "test_accuracy = accuracy_score(y_test, y_pred_tfidf_rf)\n",
        "\n",
        "print(\"Random Forest with TF-IDF on Test Data\")\n",
        "print(f\"Test Accuracy: {test_accuracy:.4f}\")\n",
        "print(f\"Test Precision: {test_precision:.4f}\")\n",
        "print(f\"Test Recall: {test_recall:.4f}\")\n",
        "print(f\"Test F-Measure: {test_fscore:.4f}\")"
      ]
    },
    {
      "cell_type": "markdown",
      "metadata": {
        "id": "kWalPKXsIJ-E"
      },
      "source": [
        "##### Word Embeddings"
      ]
    },
    {
      "cell_type": "code",
      "execution_count": 23,
      "metadata": {
        "colab": {
          "base_uri": "https://localhost:8080/"
        },
        "id": "frmZns4vIJ-E",
        "outputId": "8222ed31-8c2b-48e3-8213-0402ffbd28cb"
      },
      "outputs": [
        {
          "output_type": "stream",
          "name": "stdout",
          "text": [
            "results cross validation: [0.81132075 0.81761006 0.81761006 0.79874214 0.79245283 0.81132075\n",
            " 0.79874214 0.81761006 0.83018868 0.81761006]\n",
            "mean: 0.8113207547169811\n"
          ]
        }
      ],
      "source": [
        "rf_model = RandomForestClassifier()\n",
        "cv_scores = cross_val_score(rf_model, train_w2v, y_train, cv=10)\n",
        "print(\"results cross validation:\", cv_scores)\n",
        "print(\"mean:\", cv_scores.mean())"
      ]
    },
    {
      "cell_type": "code",
      "execution_count": 24,
      "metadata": {
        "colab": {
          "base_uri": "https://localhost:8080/"
        },
        "id": "06ZXC1AOIJ-E",
        "outputId": "1ead389f-04bf-466d-ccdd-8b82635c85a5"
      },
      "outputs": [
        {
          "output_type": "stream",
          "name": "stdout",
          "text": [
            "Random Forest with Word Embeddings on Test Data\n",
            "Test Accuracy: 0.8141\n",
            "Test Precision: 0.8367\n",
            "Test Recall: 0.4142\n",
            "Test F-Measure: 0.4295\n"
          ]
        }
      ],
      "source": [
        "rf_model.fit(train_w2v, y_train)\n",
        "y_pred_w2v_rf = rf_model.predict(test_w2v)\n",
        "test_precision, test_recall, test_fscore, _ = precision_recall_fscore_support(y_test, y_pred_w2v_rf, average='macro', zero_division=1)\n",
        "test_accuracy = accuracy_score(y_test, y_pred_w2v_rf)\n",
        "print(\"Random Forest with Word Embeddings on Test Data\")\n",
        "print(f\"Test Accuracy: {test_accuracy:.4f}\")\n",
        "print(f\"Test Precision: {test_precision:.4f}\")\n",
        "print(f\"Test Recall: {test_recall:.4f}\")\n",
        "print(f\"Test F-Measure: {test_fscore:.4f}\")"
      ]
    },
    {
      "cell_type": "markdown",
      "metadata": {
        "id": "9-ODDr9aIJ-F"
      },
      "source": [
        "#### K Nearest Neighbors Classifier"
      ]
    },
    {
      "cell_type": "markdown",
      "metadata": {
        "id": "bTppG1QgIJ-F"
      },
      "source": [
        "##### TF-IDF"
      ]
    },
    {
      "cell_type": "code",
      "execution_count": 25,
      "metadata": {
        "colab": {
          "base_uri": "https://localhost:8080/"
        },
        "id": "HTec6VIoIJ-F",
        "outputId": "be495400-cd93-441f-b76a-e305eb12f45c"
      },
      "outputs": [
        {
          "output_type": "stream",
          "name": "stdout",
          "text": [
            "results cross validation: [0.82389937 0.81761006 0.82389937 0.80503145 0.83018868 0.83018868\n",
            " 0.82389937 0.81132075 0.81761006 0.79245283]\n",
            "mean: 0.8176100628930818\n"
          ]
        }
      ],
      "source": [
        "clf_knn = KNeighborsClassifier(n_neighbors=10)\n",
        "\n",
        "cv_scores = cross_val_score(clf_knn, tfidf_matrix, y_train, cv=10)\n",
        "print(\"results cross validation:\", cv_scores)\n",
        "print(\"mean:\", cv_scores.mean())"
      ]
    },
    {
      "cell_type": "code",
      "execution_count": 26,
      "metadata": {
        "colab": {
          "base_uri": "https://localhost:8080/"
        },
        "id": "i68UIK4TIJ-G",
        "outputId": "29c74fc8-6015-4fb2-f1f3-5681528f56ec"
      },
      "outputs": [
        {
          "output_type": "stream",
          "name": "stdout",
          "text": [
            "K Nearest Neighbors Classifier with TF-IDF on Test Data\n",
            "Test Accuracy: 0.8166\n",
            "Test Precision: 0.4911\n",
            "Test Recall: 0.4232\n",
            "Test F-Measure: 0.4309\n"
          ]
        }
      ],
      "source": [
        "clf_knn.fit(tfidf_matrix, y_train)\n",
        "y_pred_tfidf_knn = clf_knn.predict(tfidf_test_matrix)\n",
        "test_precision, test_recall, test_fscore, _ = precision_recall_fscore_support(y_test, y_pred_tfidf_knn, average='macro', zero_division=1)\n",
        "test_accuracy = accuracy_score(y_test, y_pred_tfidf_knn)\n",
        "\n",
        "print(\"K Nearest Neighbors Classifier with TF-IDF on Test Data\")\n",
        "print(f\"Test Accuracy: {test_accuracy:.4f}\")\n",
        "print(f\"Test Precision: {test_precision:.4f}\")\n",
        "print(f\"Test Recall: {test_recall:.4f}\")\n",
        "print(f\"Test F-Measure: {test_fscore:.4f}\")"
      ]
    },
    {
      "cell_type": "markdown",
      "metadata": {
        "id": "a8U8Nqq8IJ-G"
      },
      "source": [
        "##### Word Embeddings"
      ]
    },
    {
      "cell_type": "code",
      "execution_count": 27,
      "metadata": {
        "colab": {
          "base_uri": "https://localhost:8080/"
        },
        "id": "0Mf9RtGwIJ-G",
        "outputId": "687543a6-5c6b-4809-9385-964371105faf"
      },
      "outputs": [
        {
          "output_type": "stream",
          "name": "stdout",
          "text": [
            "results cross validation: [0.79874214 0.81761006 0.82389937 0.80503145 0.81761006 0.81132075\n",
            " 0.82389937 0.82389937 0.83647799 0.83018868]\n",
            "mean: 0.8188679245283019\n"
          ]
        }
      ],
      "source": [
        "clf_knn = KNeighborsClassifier(n_neighbors=10)\n",
        "cv_scores = cross_val_score(clf_knn, train_w2v, y_train, cv=10)\n",
        "print(\"results cross validation:\", cv_scores)\n",
        "print(\"mean:\", cv_scores.mean())"
      ]
    },
    {
      "cell_type": "code",
      "execution_count": 28,
      "metadata": {
        "colab": {
          "base_uri": "https://localhost:8080/"
        },
        "id": "cajZLU2OIJ-H",
        "outputId": "c16b884e-2f77-4238-dbcf-95febadb45c5"
      },
      "outputs": [
        {
          "output_type": "stream",
          "name": "stdout",
          "text": [
            "K Nearest Neighbors Classifier with Word Embeddings on Test Data\n",
            "Test Accuracy: 0.8166\n",
            "Test Precision: 0.7925\n",
            "Test Recall: 0.4377\n",
            "Test F-Measure: 0.4472\n"
          ]
        }
      ],
      "source": [
        "clf_knn.fit(train_w2v, y_train)\n",
        "y_pred_w2v_knn = clf_knn.predict(test_w2v)\n",
        "test_precision, test_recall, test_fscore, _ = precision_recall_fscore_support(y_test, y_pred_w2v_knn, average='macro', zero_division=1)\n",
        "test_accuracy = accuracy_score(y_test, y_pred_w2v_knn)\n",
        "\n",
        "print(\"K Nearest Neighbors Classifier with Word Embeddings on Test Data\")\n",
        "print(f\"Test Accuracy: {test_accuracy:.4f}\")\n",
        "print(f\"Test Precision: {test_precision:.4f}\")\n",
        "print(f\"Test Recall: {test_recall:.4f}\")\n",
        "print(f\"Test F-Measure: {test_fscore:.4f}\")"
      ]
    },
    {
      "cell_type": "markdown",
      "metadata": {
        "id": "biPD24upIJ-H"
      },
      "source": [
        "# Part 3 : Similarity and semantic neighbourhoods"
      ]
    },
    {
      "cell_type": "code",
      "execution_count": 29,
      "metadata": {
        "colab": {
          "base_uri": "https://localhost:8080/"
        },
        "id": "gSfMYEZAIJ-H",
        "outputId": "c1e737ff-7be9-4f96-fd94-91ba2f756da4"
      },
      "outputs": [
        {
          "output_type": "stream",
          "name": "stdout",
          "text": [
            "Enter first word: apartment\n",
            "Enter second word: view\n",
            "Neighbors of 'apartment': [('bedroom', 0.7657642364501953), ('apartments', 0.7412739992141724), ('rented', 0.6728134155273438), ('basement', 0.6546065211296082), ('condominium', 0.6364909410476685), ('townhouse', 0.6278818845748901), ('hotel', 0.6156034469604492), ('room', 0.6149617433547974), ('upstairs', 0.6051762700080872), ('manhattan', 0.601713240146637)]\n",
            "Neighbors of 'view': [('views', 0.8132389187812805), ('viewed', 0.6858992576599121), ('perspective', 0.6829386353492737), ('fact', 0.6394168734550476), ('indeed', 0.6343290209770203), ('what', 0.6314751505851746), ('look', 0.6306207776069641), ('believe', 0.6281221508979797), ('seen', 0.6266553997993469), ('that', 0.6245580911636353)]\n",
            "Similarity metrics between 'apartment' and 'view':\n",
            "Maximum similarity: 0.4413\n",
            "Correlation of neighborhood similarities: 0.8896\n",
            "Sum of squared neighborhood similarities: 1.1631\n",
            "The semantic neighborhood of the word: 'host' is:\n",
            "hosts\n",
            "hosting\n",
            "hosted\n",
            "show\n",
            "guest\n",
            "conference\n",
            "invited\n",
            "live\n",
            "\n",
            "\n",
            "The semantic neighborhood of the word: 'dirty' is:\n",
            "filthy\n",
            "smelly\n",
            "ugly\n",
            "stuff\n",
            "clean\n",
            "stupid\n",
            "cheap\n",
            "bastard\n",
            "\n",
            "\n",
            "The semantic neighborhood of the word: 'bad' is:\n",
            "good\n",
            "things\n",
            "worse\n",
            "really\n",
            "because\n",
            "thing\n",
            "nothing\n",
            "pretty\n",
            "\n",
            "\n"
          ]
        }
      ],
      "source": [
        "# Define the power function\n",
        "def power(num):\n",
        "    return pow(num, 2)\n",
        "\n",
        "# Define the function to get semantic neighbors\n",
        "def get_semantic_neighbors(word, topn):\n",
        "    return model_w2v.most_similar(word, topn=topn)\n",
        "\n",
        "# Define the function to calculate similarity between words\n",
        "def calculate_similarity(word1, word2, topn):\n",
        "    # Calculate similarity between the two words\n",
        "    similarity_score = model_w2v.similarity(word1, word2)\n",
        "\n",
        "    # Get the semantic neighbors\n",
        "    neighbors1 = get_semantic_neighbors(word1, topn)\n",
        "    neighbors2 = get_semantic_neighbors(word2, topn)\n",
        "\n",
        "    # Maximum similarity of neighborhoods\n",
        "    max_sim_1 = max([model_w2v.similarity(word1, neigh2[0]) for neigh2 in neighbors2])\n",
        "    max_sim_2 = max([model_w2v.similarity(word2, neigh1[0]) for neigh1 in neighbors1])\n",
        "\n",
        "    max_sim = max(max_sim_1, max_sim_2)\n",
        "\n",
        "    # Correlation of neighborhood similarity\n",
        "    sim1 = [model_w2v.similarity(word1, neigh2[0]) for neigh2 in neighbors2]\n",
        "    sim2 = [model_w2v.similarity(word2, neigh1[0]) for neigh1 in neighbors1]\n",
        "\n",
        "    cor12 = pearsonr([neigh1[1] for neigh1 in neighbors1], [neigh2[1] for neigh2 in neighbors2])\n",
        "    cor21 = pearsonr(sim1, sim2)\n",
        "\n",
        "    correlation = max(cor12, cor21)[0]\n",
        "\n",
        "    sum_1 = list(map(power, sim1))\n",
        "    sum_1 = sum(sum_1)\n",
        "\n",
        "    sum_2 = list(map(power, sim2))\n",
        "    sum_2 = sum(sum_2)\n",
        "\n",
        "    sum_of_squares = math.sqrt(sum_1 + sum_2)\n",
        "\n",
        "    return {\n",
        "        \"neighbors1\": neighbors1,\n",
        "        \"neighbors2\": neighbors2,\n",
        "        \"max_similarity\": max_sim,\n",
        "        \"correlation\": correlation,\n",
        "        \"sum_of_squares\": sum_of_squares\n",
        "    }\n",
        "\n",
        "# Define the function to show semantic neighborhood of a word\n",
        "def show_semantic_neighborhood(word):\n",
        "    neighbors = get_semantic_neighbors(word, 8)\n",
        "    print(f\"The semantic neighborhood of the word: '{word}' is:\")\n",
        "    for neigh in neighbors:\n",
        "        print(neigh[0])\n",
        "    print(\"\\n\")\n",
        "\n",
        "# User inputs for words\n",
        "word1 = input(\"Enter first word: \")\n",
        "word2 = input(\"Enter second word: \")\n",
        "topn = 10\n",
        "\n",
        "# Calculate similarity metrics between the two words\n",
        "similarity_metrics = calculate_similarity(word1, word2, topn)\n",
        "\n",
        "# Display the results\n",
        "print(f\"Neighbors of '{word1}': {similarity_metrics['neighbors1']}\")\n",
        "print(f\"Neighbors of '{word2}': {similarity_metrics['neighbors2']}\")\n",
        "print(f\"Similarity metrics between '{word1}' and '{word2}':\")\n",
        "print(f\"Maximum similarity: {similarity_metrics['max_similarity']:.4f}\")\n",
        "print(f\"Correlation of neighborhood similarities: {similarity_metrics['correlation']:.4f}\")\n",
        "print(f\"Sum of squared neighborhood similarities: {similarity_metrics['sum_of_squares']:.4f}\")\n",
        "\n",
        "# Display semantic neighborhoods of example words\n",
        "show_semantic_neighborhood(\"host\")\n",
        "show_semantic_neighborhood(\"dirty\")\n",
        "show_semantic_neighborhood(\"bad\")"
      ]
    },
    {
      "cell_type": "markdown",
      "metadata": {
        "id": "4B0eVyVnIJ-I"
      },
      "source": [
        "By the observation of the results, we concluded that as the parameter topn grows, so does the value of maximum similarity of neighborhoods and the value of sum of squared neighbourhoods similarity. Nevertheless, the value of the correlation of neighborhood similarities have an unstable behavior, as sometimes it decreases and sometimes rises, depending on the words given.By the observation of the results, we concluded that as the parameter **topn grows**, **so does** the value of **maximum** similarity of neighborhoods and the value of **sum of squared** neighbourhoods similarity. Nevertheless, the value of the correlation of neighborhood similarities have an **unstable behavior**, as sometimes it decreases and sometimes it rises, depending on the words given."
      ]
    }
  ],
  "metadata": {
    "kernelspec": {
      "display_name": "Python 3",
      "language": "python",
      "name": "python3"
    },
    "language_info": {
      "codemirror_mode": {
        "name": "ipython",
        "version": 3
      },
      "file_extension": ".py",
      "mimetype": "text/x-python",
      "name": "python",
      "nbconvert_exporter": "python",
      "pygments_lexer": "ipython3",
      "version": "3.11.1"
    },
    "colab": {
      "provenance": [],
      "toc_visible": true
    },
    "widgets": {
      "application/vnd.jupyter.widget-state+json": {
        "5a853fb9545647759813a154251b78e2": {
          "model_module": "@jupyter-widgets/controls",
          "model_name": "HBoxModel",
          "model_module_version": "1.5.0",
          "state": {
            "_dom_classes": [],
            "_model_module": "@jupyter-widgets/controls",
            "_model_module_version": "1.5.0",
            "_model_name": "HBoxModel",
            "_view_count": null,
            "_view_module": "@jupyter-widgets/controls",
            "_view_module_version": "1.5.0",
            "_view_name": "HBoxView",
            "box_style": "",
            "children": [
              "IPY_MODEL_0418a634a9dc414ead87544d1e065b4a",
              "IPY_MODEL_02ea7471c4c54aeb86d87e63ba6d95a6",
              "IPY_MODEL_402a4c4d28f74d2da62f5c1dfb1154bc"
            ],
            "layout": "IPY_MODEL_ce841cdebb3643edb22edd15ed74b339"
          }
        },
        "0418a634a9dc414ead87544d1e065b4a": {
          "model_module": "@jupyter-widgets/controls",
          "model_name": "HTMLModel",
          "model_module_version": "1.5.0",
          "state": {
            "_dom_classes": [],
            "_model_module": "@jupyter-widgets/controls",
            "_model_module_version": "1.5.0",
            "_model_name": "HTMLModel",
            "_view_count": null,
            "_view_module": "@jupyter-widgets/controls",
            "_view_module_version": "1.5.0",
            "_view_name": "HTMLView",
            "description": "",
            "description_tooltip": null,
            "layout": "IPY_MODEL_60997007a71c44d4be3a45b3cf41186a",
            "placeholder": "​",
            "style": "IPY_MODEL_eaf380321d8940bea339f2ff1e86b137",
            "value": "config.json: 100%"
          }
        },
        "02ea7471c4c54aeb86d87e63ba6d95a6": {
          "model_module": "@jupyter-widgets/controls",
          "model_name": "FloatProgressModel",
          "model_module_version": "1.5.0",
          "state": {
            "_dom_classes": [],
            "_model_module": "@jupyter-widgets/controls",
            "_model_module_version": "1.5.0",
            "_model_name": "FloatProgressModel",
            "_view_count": null,
            "_view_module": "@jupyter-widgets/controls",
            "_view_module_version": "1.5.0",
            "_view_name": "ProgressView",
            "bar_style": "success",
            "description": "",
            "description_tooltip": null,
            "layout": "IPY_MODEL_9ca1796c6b484da3b59bd140f8544871",
            "max": 953,
            "min": 0,
            "orientation": "horizontal",
            "style": "IPY_MODEL_93a786913f674bd5838fc573024a197e",
            "value": 953
          }
        },
        "402a4c4d28f74d2da62f5c1dfb1154bc": {
          "model_module": "@jupyter-widgets/controls",
          "model_name": "HTMLModel",
          "model_module_version": "1.5.0",
          "state": {
            "_dom_classes": [],
            "_model_module": "@jupyter-widgets/controls",
            "_model_module_version": "1.5.0",
            "_model_name": "HTMLModel",
            "_view_count": null,
            "_view_module": "@jupyter-widgets/controls",
            "_view_module_version": "1.5.0",
            "_view_name": "HTMLView",
            "description": "",
            "description_tooltip": null,
            "layout": "IPY_MODEL_78349014410e40e180c584b6212fc192",
            "placeholder": "​",
            "style": "IPY_MODEL_0824fdd2b1c549459e324abe71a4b601",
            "value": " 953/953 [00:00&lt;00:00, 40.2kB/s]"
          }
        },
        "ce841cdebb3643edb22edd15ed74b339": {
          "model_module": "@jupyter-widgets/base",
          "model_name": "LayoutModel",
          "model_module_version": "1.2.0",
          "state": {
            "_model_module": "@jupyter-widgets/base",
            "_model_module_version": "1.2.0",
            "_model_name": "LayoutModel",
            "_view_count": null,
            "_view_module": "@jupyter-widgets/base",
            "_view_module_version": "1.2.0",
            "_view_name": "LayoutView",
            "align_content": null,
            "align_items": null,
            "align_self": null,
            "border": null,
            "bottom": null,
            "display": null,
            "flex": null,
            "flex_flow": null,
            "grid_area": null,
            "grid_auto_columns": null,
            "grid_auto_flow": null,
            "grid_auto_rows": null,
            "grid_column": null,
            "grid_gap": null,
            "grid_row": null,
            "grid_template_areas": null,
            "grid_template_columns": null,
            "grid_template_rows": null,
            "height": null,
            "justify_content": null,
            "justify_items": null,
            "left": null,
            "margin": null,
            "max_height": null,
            "max_width": null,
            "min_height": null,
            "min_width": null,
            "object_fit": null,
            "object_position": null,
            "order": null,
            "overflow": null,
            "overflow_x": null,
            "overflow_y": null,
            "padding": null,
            "right": null,
            "top": null,
            "visibility": null,
            "width": null
          }
        },
        "60997007a71c44d4be3a45b3cf41186a": {
          "model_module": "@jupyter-widgets/base",
          "model_name": "LayoutModel",
          "model_module_version": "1.2.0",
          "state": {
            "_model_module": "@jupyter-widgets/base",
            "_model_module_version": "1.2.0",
            "_model_name": "LayoutModel",
            "_view_count": null,
            "_view_module": "@jupyter-widgets/base",
            "_view_module_version": "1.2.0",
            "_view_name": "LayoutView",
            "align_content": null,
            "align_items": null,
            "align_self": null,
            "border": null,
            "bottom": null,
            "display": null,
            "flex": null,
            "flex_flow": null,
            "grid_area": null,
            "grid_auto_columns": null,
            "grid_auto_flow": null,
            "grid_auto_rows": null,
            "grid_column": null,
            "grid_gap": null,
            "grid_row": null,
            "grid_template_areas": null,
            "grid_template_columns": null,
            "grid_template_rows": null,
            "height": null,
            "justify_content": null,
            "justify_items": null,
            "left": null,
            "margin": null,
            "max_height": null,
            "max_width": null,
            "min_height": null,
            "min_width": null,
            "object_fit": null,
            "object_position": null,
            "order": null,
            "overflow": null,
            "overflow_x": null,
            "overflow_y": null,
            "padding": null,
            "right": null,
            "top": null,
            "visibility": null,
            "width": null
          }
        },
        "eaf380321d8940bea339f2ff1e86b137": {
          "model_module": "@jupyter-widgets/controls",
          "model_name": "DescriptionStyleModel",
          "model_module_version": "1.5.0",
          "state": {
            "_model_module": "@jupyter-widgets/controls",
            "_model_module_version": "1.5.0",
            "_model_name": "DescriptionStyleModel",
            "_view_count": null,
            "_view_module": "@jupyter-widgets/base",
            "_view_module_version": "1.2.0",
            "_view_name": "StyleView",
            "description_width": ""
          }
        },
        "9ca1796c6b484da3b59bd140f8544871": {
          "model_module": "@jupyter-widgets/base",
          "model_name": "LayoutModel",
          "model_module_version": "1.2.0",
          "state": {
            "_model_module": "@jupyter-widgets/base",
            "_model_module_version": "1.2.0",
            "_model_name": "LayoutModel",
            "_view_count": null,
            "_view_module": "@jupyter-widgets/base",
            "_view_module_version": "1.2.0",
            "_view_name": "LayoutView",
            "align_content": null,
            "align_items": null,
            "align_self": null,
            "border": null,
            "bottom": null,
            "display": null,
            "flex": null,
            "flex_flow": null,
            "grid_area": null,
            "grid_auto_columns": null,
            "grid_auto_flow": null,
            "grid_auto_rows": null,
            "grid_column": null,
            "grid_gap": null,
            "grid_row": null,
            "grid_template_areas": null,
            "grid_template_columns": null,
            "grid_template_rows": null,
            "height": null,
            "justify_content": null,
            "justify_items": null,
            "left": null,
            "margin": null,
            "max_height": null,
            "max_width": null,
            "min_height": null,
            "min_width": null,
            "object_fit": null,
            "object_position": null,
            "order": null,
            "overflow": null,
            "overflow_x": null,
            "overflow_y": null,
            "padding": null,
            "right": null,
            "top": null,
            "visibility": null,
            "width": null
          }
        },
        "93a786913f674bd5838fc573024a197e": {
          "model_module": "@jupyter-widgets/controls",
          "model_name": "ProgressStyleModel",
          "model_module_version": "1.5.0",
          "state": {
            "_model_module": "@jupyter-widgets/controls",
            "_model_module_version": "1.5.0",
            "_model_name": "ProgressStyleModel",
            "_view_count": null,
            "_view_module": "@jupyter-widgets/base",
            "_view_module_version": "1.2.0",
            "_view_name": "StyleView",
            "bar_color": null,
            "description_width": ""
          }
        },
        "78349014410e40e180c584b6212fc192": {
          "model_module": "@jupyter-widgets/base",
          "model_name": "LayoutModel",
          "model_module_version": "1.2.0",
          "state": {
            "_model_module": "@jupyter-widgets/base",
            "_model_module_version": "1.2.0",
            "_model_name": "LayoutModel",
            "_view_count": null,
            "_view_module": "@jupyter-widgets/base",
            "_view_module_version": "1.2.0",
            "_view_name": "LayoutView",
            "align_content": null,
            "align_items": null,
            "align_self": null,
            "border": null,
            "bottom": null,
            "display": null,
            "flex": null,
            "flex_flow": null,
            "grid_area": null,
            "grid_auto_columns": null,
            "grid_auto_flow": null,
            "grid_auto_rows": null,
            "grid_column": null,
            "grid_gap": null,
            "grid_row": null,
            "grid_template_areas": null,
            "grid_template_columns": null,
            "grid_template_rows": null,
            "height": null,
            "justify_content": null,
            "justify_items": null,
            "left": null,
            "margin": null,
            "max_height": null,
            "max_width": null,
            "min_height": null,
            "min_width": null,
            "object_fit": null,
            "object_position": null,
            "order": null,
            "overflow": null,
            "overflow_x": null,
            "overflow_y": null,
            "padding": null,
            "right": null,
            "top": null,
            "visibility": null,
            "width": null
          }
        },
        "0824fdd2b1c549459e324abe71a4b601": {
          "model_module": "@jupyter-widgets/controls",
          "model_name": "DescriptionStyleModel",
          "model_module_version": "1.5.0",
          "state": {
            "_model_module": "@jupyter-widgets/controls",
            "_model_module_version": "1.5.0",
            "_model_name": "DescriptionStyleModel",
            "_view_count": null,
            "_view_module": "@jupyter-widgets/base",
            "_view_module_version": "1.2.0",
            "_view_name": "StyleView",
            "description_width": ""
          }
        },
        "729f2d947b8a44108d5fff507e4833ce": {
          "model_module": "@jupyter-widgets/controls",
          "model_name": "HBoxModel",
          "model_module_version": "1.5.0",
          "state": {
            "_dom_classes": [],
            "_model_module": "@jupyter-widgets/controls",
            "_model_module_version": "1.5.0",
            "_model_name": "HBoxModel",
            "_view_count": null,
            "_view_module": "@jupyter-widgets/controls",
            "_view_module_version": "1.5.0",
            "_view_name": "HBoxView",
            "box_style": "",
            "children": [
              "IPY_MODEL_9704cbb22d144247ad6eab5e119f755d",
              "IPY_MODEL_bdbfb08cfc054a23b5c3d88b936ee65b",
              "IPY_MODEL_57db86b1f06043f2a57a5954c91a70d1"
            ],
            "layout": "IPY_MODEL_930faad5bab6447e86c534d6a17fce36"
          }
        },
        "9704cbb22d144247ad6eab5e119f755d": {
          "model_module": "@jupyter-widgets/controls",
          "model_name": "HTMLModel",
          "model_module_version": "1.5.0",
          "state": {
            "_dom_classes": [],
            "_model_module": "@jupyter-widgets/controls",
            "_model_module_version": "1.5.0",
            "_model_name": "HTMLModel",
            "_view_count": null,
            "_view_module": "@jupyter-widgets/controls",
            "_view_module_version": "1.5.0",
            "_view_name": "HTMLView",
            "description": "",
            "description_tooltip": null,
            "layout": "IPY_MODEL_f7169ebd417647318bd9572bd488d540",
            "placeholder": "​",
            "style": "IPY_MODEL_f111c93fafa14951ad009d0caf89a935",
            "value": "pytorch_model.bin: 100%"
          }
        },
        "bdbfb08cfc054a23b5c3d88b936ee65b": {
          "model_module": "@jupyter-widgets/controls",
          "model_name": "FloatProgressModel",
          "model_module_version": "1.5.0",
          "state": {
            "_dom_classes": [],
            "_model_module": "@jupyter-widgets/controls",
            "_model_module_version": "1.5.0",
            "_model_name": "FloatProgressModel",
            "_view_count": null,
            "_view_module": "@jupyter-widgets/controls",
            "_view_module_version": "1.5.0",
            "_view_name": "ProgressView",
            "bar_style": "success",
            "description": "",
            "description_tooltip": null,
            "layout": "IPY_MODEL_59b04e9f6e8d4cfe971d4abcd197ce32",
            "max": 669491321,
            "min": 0,
            "orientation": "horizontal",
            "style": "IPY_MODEL_fbcb349e2c794696ba36b36e9de0f219",
            "value": 669491321
          }
        },
        "57db86b1f06043f2a57a5954c91a70d1": {
          "model_module": "@jupyter-widgets/controls",
          "model_name": "HTMLModel",
          "model_module_version": "1.5.0",
          "state": {
            "_dom_classes": [],
            "_model_module": "@jupyter-widgets/controls",
            "_model_module_version": "1.5.0",
            "_model_name": "HTMLModel",
            "_view_count": null,
            "_view_module": "@jupyter-widgets/controls",
            "_view_module_version": "1.5.0",
            "_view_name": "HTMLView",
            "description": "",
            "description_tooltip": null,
            "layout": "IPY_MODEL_fe0a94f5043e423392f63aa6a0044b86",
            "placeholder": "​",
            "style": "IPY_MODEL_a5d75768e4124e0a84709830f91184a0",
            "value": " 669M/669M [00:03&lt;00:00, 217MB/s]"
          }
        },
        "930faad5bab6447e86c534d6a17fce36": {
          "model_module": "@jupyter-widgets/base",
          "model_name": "LayoutModel",
          "model_module_version": "1.2.0",
          "state": {
            "_model_module": "@jupyter-widgets/base",
            "_model_module_version": "1.2.0",
            "_model_name": "LayoutModel",
            "_view_count": null,
            "_view_module": "@jupyter-widgets/base",
            "_view_module_version": "1.2.0",
            "_view_name": "LayoutView",
            "align_content": null,
            "align_items": null,
            "align_self": null,
            "border": null,
            "bottom": null,
            "display": null,
            "flex": null,
            "flex_flow": null,
            "grid_area": null,
            "grid_auto_columns": null,
            "grid_auto_flow": null,
            "grid_auto_rows": null,
            "grid_column": null,
            "grid_gap": null,
            "grid_row": null,
            "grid_template_areas": null,
            "grid_template_columns": null,
            "grid_template_rows": null,
            "height": null,
            "justify_content": null,
            "justify_items": null,
            "left": null,
            "margin": null,
            "max_height": null,
            "max_width": null,
            "min_height": null,
            "min_width": null,
            "object_fit": null,
            "object_position": null,
            "order": null,
            "overflow": null,
            "overflow_x": null,
            "overflow_y": null,
            "padding": null,
            "right": null,
            "top": null,
            "visibility": null,
            "width": null
          }
        },
        "f7169ebd417647318bd9572bd488d540": {
          "model_module": "@jupyter-widgets/base",
          "model_name": "LayoutModel",
          "model_module_version": "1.2.0",
          "state": {
            "_model_module": "@jupyter-widgets/base",
            "_model_module_version": "1.2.0",
            "_model_name": "LayoutModel",
            "_view_count": null,
            "_view_module": "@jupyter-widgets/base",
            "_view_module_version": "1.2.0",
            "_view_name": "LayoutView",
            "align_content": null,
            "align_items": null,
            "align_self": null,
            "border": null,
            "bottom": null,
            "display": null,
            "flex": null,
            "flex_flow": null,
            "grid_area": null,
            "grid_auto_columns": null,
            "grid_auto_flow": null,
            "grid_auto_rows": null,
            "grid_column": null,
            "grid_gap": null,
            "grid_row": null,
            "grid_template_areas": null,
            "grid_template_columns": null,
            "grid_template_rows": null,
            "height": null,
            "justify_content": null,
            "justify_items": null,
            "left": null,
            "margin": null,
            "max_height": null,
            "max_width": null,
            "min_height": null,
            "min_width": null,
            "object_fit": null,
            "object_position": null,
            "order": null,
            "overflow": null,
            "overflow_x": null,
            "overflow_y": null,
            "padding": null,
            "right": null,
            "top": null,
            "visibility": null,
            "width": null
          }
        },
        "f111c93fafa14951ad009d0caf89a935": {
          "model_module": "@jupyter-widgets/controls",
          "model_name": "DescriptionStyleModel",
          "model_module_version": "1.5.0",
          "state": {
            "_model_module": "@jupyter-widgets/controls",
            "_model_module_version": "1.5.0",
            "_model_name": "DescriptionStyleModel",
            "_view_count": null,
            "_view_module": "@jupyter-widgets/base",
            "_view_module_version": "1.2.0",
            "_view_name": "StyleView",
            "description_width": ""
          }
        },
        "59b04e9f6e8d4cfe971d4abcd197ce32": {
          "model_module": "@jupyter-widgets/base",
          "model_name": "LayoutModel",
          "model_module_version": "1.2.0",
          "state": {
            "_model_module": "@jupyter-widgets/base",
            "_model_module_version": "1.2.0",
            "_model_name": "LayoutModel",
            "_view_count": null,
            "_view_module": "@jupyter-widgets/base",
            "_view_module_version": "1.2.0",
            "_view_name": "LayoutView",
            "align_content": null,
            "align_items": null,
            "align_self": null,
            "border": null,
            "bottom": null,
            "display": null,
            "flex": null,
            "flex_flow": null,
            "grid_area": null,
            "grid_auto_columns": null,
            "grid_auto_flow": null,
            "grid_auto_rows": null,
            "grid_column": null,
            "grid_gap": null,
            "grid_row": null,
            "grid_template_areas": null,
            "grid_template_columns": null,
            "grid_template_rows": null,
            "height": null,
            "justify_content": null,
            "justify_items": null,
            "left": null,
            "margin": null,
            "max_height": null,
            "max_width": null,
            "min_height": null,
            "min_width": null,
            "object_fit": null,
            "object_position": null,
            "order": null,
            "overflow": null,
            "overflow_x": null,
            "overflow_y": null,
            "padding": null,
            "right": null,
            "top": null,
            "visibility": null,
            "width": null
          }
        },
        "fbcb349e2c794696ba36b36e9de0f219": {
          "model_module": "@jupyter-widgets/controls",
          "model_name": "ProgressStyleModel",
          "model_module_version": "1.5.0",
          "state": {
            "_model_module": "@jupyter-widgets/controls",
            "_model_module_version": "1.5.0",
            "_model_name": "ProgressStyleModel",
            "_view_count": null,
            "_view_module": "@jupyter-widgets/base",
            "_view_module_version": "1.2.0",
            "_view_name": "StyleView",
            "bar_color": null,
            "description_width": ""
          }
        },
        "fe0a94f5043e423392f63aa6a0044b86": {
          "model_module": "@jupyter-widgets/base",
          "model_name": "LayoutModel",
          "model_module_version": "1.2.0",
          "state": {
            "_model_module": "@jupyter-widgets/base",
            "_model_module_version": "1.2.0",
            "_model_name": "LayoutModel",
            "_view_count": null,
            "_view_module": "@jupyter-widgets/base",
            "_view_module_version": "1.2.0",
            "_view_name": "LayoutView",
            "align_content": null,
            "align_items": null,
            "align_self": null,
            "border": null,
            "bottom": null,
            "display": null,
            "flex": null,
            "flex_flow": null,
            "grid_area": null,
            "grid_auto_columns": null,
            "grid_auto_flow": null,
            "grid_auto_rows": null,
            "grid_column": null,
            "grid_gap": null,
            "grid_row": null,
            "grid_template_areas": null,
            "grid_template_columns": null,
            "grid_template_rows": null,
            "height": null,
            "justify_content": null,
            "justify_items": null,
            "left": null,
            "margin": null,
            "max_height": null,
            "max_width": null,
            "min_height": null,
            "min_width": null,
            "object_fit": null,
            "object_position": null,
            "order": null,
            "overflow": null,
            "overflow_x": null,
            "overflow_y": null,
            "padding": null,
            "right": null,
            "top": null,
            "visibility": null,
            "width": null
          }
        },
        "a5d75768e4124e0a84709830f91184a0": {
          "model_module": "@jupyter-widgets/controls",
          "model_name": "DescriptionStyleModel",
          "model_module_version": "1.5.0",
          "state": {
            "_model_module": "@jupyter-widgets/controls",
            "_model_module_version": "1.5.0",
            "_model_name": "DescriptionStyleModel",
            "_view_count": null,
            "_view_module": "@jupyter-widgets/base",
            "_view_module_version": "1.2.0",
            "_view_name": "StyleView",
            "description_width": ""
          }
        },
        "fbbd2e4cb46f417694a46d69f2d8b77e": {
          "model_module": "@jupyter-widgets/controls",
          "model_name": "HBoxModel",
          "model_module_version": "1.5.0",
          "state": {
            "_dom_classes": [],
            "_model_module": "@jupyter-widgets/controls",
            "_model_module_version": "1.5.0",
            "_model_name": "HBoxModel",
            "_view_count": null,
            "_view_module": "@jupyter-widgets/controls",
            "_view_module_version": "1.5.0",
            "_view_name": "HBoxView",
            "box_style": "",
            "children": [
              "IPY_MODEL_b7a415a7eeee4503b34fc4ef02b81abc",
              "IPY_MODEL_0616d68cf5af495fb22f758209d61c65",
              "IPY_MODEL_4c7308313f42484aa57b3f2a05c40800"
            ],
            "layout": "IPY_MODEL_119a0add2be0425ab16ec63fdba6ecd6"
          }
        },
        "b7a415a7eeee4503b34fc4ef02b81abc": {
          "model_module": "@jupyter-widgets/controls",
          "model_name": "HTMLModel",
          "model_module_version": "1.5.0",
          "state": {
            "_dom_classes": [],
            "_model_module": "@jupyter-widgets/controls",
            "_model_module_version": "1.5.0",
            "_model_name": "HTMLModel",
            "_view_count": null,
            "_view_module": "@jupyter-widgets/controls",
            "_view_module_version": "1.5.0",
            "_view_name": "HTMLView",
            "description": "",
            "description_tooltip": null,
            "layout": "IPY_MODEL_f8e5730149054d609cdcb25a50f044e1",
            "placeholder": "​",
            "style": "IPY_MODEL_18629e2765ba4646b86f30debe5eb81b",
            "value": "tokenizer_config.json: 100%"
          }
        },
        "0616d68cf5af495fb22f758209d61c65": {
          "model_module": "@jupyter-widgets/controls",
          "model_name": "FloatProgressModel",
          "model_module_version": "1.5.0",
          "state": {
            "_dom_classes": [],
            "_model_module": "@jupyter-widgets/controls",
            "_model_module_version": "1.5.0",
            "_model_name": "FloatProgressModel",
            "_view_count": null,
            "_view_module": "@jupyter-widgets/controls",
            "_view_module_version": "1.5.0",
            "_view_name": "ProgressView",
            "bar_style": "success",
            "description": "",
            "description_tooltip": null,
            "layout": "IPY_MODEL_b214b7f3cba04d9593f5f429026c5409",
            "max": 39,
            "min": 0,
            "orientation": "horizontal",
            "style": "IPY_MODEL_c5eceaf78f92484a8bcafe2d27570514",
            "value": 39
          }
        },
        "4c7308313f42484aa57b3f2a05c40800": {
          "model_module": "@jupyter-widgets/controls",
          "model_name": "HTMLModel",
          "model_module_version": "1.5.0",
          "state": {
            "_dom_classes": [],
            "_model_module": "@jupyter-widgets/controls",
            "_model_module_version": "1.5.0",
            "_model_name": "HTMLModel",
            "_view_count": null,
            "_view_module": "@jupyter-widgets/controls",
            "_view_module_version": "1.5.0",
            "_view_name": "HTMLView",
            "description": "",
            "description_tooltip": null,
            "layout": "IPY_MODEL_812a7da81a90403fb7f28e6192b407db",
            "placeholder": "​",
            "style": "IPY_MODEL_9998ca3ab6c44cf2810dcf6413c6b834",
            "value": " 39.0/39.0 [00:00&lt;00:00, 2.07kB/s]"
          }
        },
        "119a0add2be0425ab16ec63fdba6ecd6": {
          "model_module": "@jupyter-widgets/base",
          "model_name": "LayoutModel",
          "model_module_version": "1.2.0",
          "state": {
            "_model_module": "@jupyter-widgets/base",
            "_model_module_version": "1.2.0",
            "_model_name": "LayoutModel",
            "_view_count": null,
            "_view_module": "@jupyter-widgets/base",
            "_view_module_version": "1.2.0",
            "_view_name": "LayoutView",
            "align_content": null,
            "align_items": null,
            "align_self": null,
            "border": null,
            "bottom": null,
            "display": null,
            "flex": null,
            "flex_flow": null,
            "grid_area": null,
            "grid_auto_columns": null,
            "grid_auto_flow": null,
            "grid_auto_rows": null,
            "grid_column": null,
            "grid_gap": null,
            "grid_row": null,
            "grid_template_areas": null,
            "grid_template_columns": null,
            "grid_template_rows": null,
            "height": null,
            "justify_content": null,
            "justify_items": null,
            "left": null,
            "margin": null,
            "max_height": null,
            "max_width": null,
            "min_height": null,
            "min_width": null,
            "object_fit": null,
            "object_position": null,
            "order": null,
            "overflow": null,
            "overflow_x": null,
            "overflow_y": null,
            "padding": null,
            "right": null,
            "top": null,
            "visibility": null,
            "width": null
          }
        },
        "f8e5730149054d609cdcb25a50f044e1": {
          "model_module": "@jupyter-widgets/base",
          "model_name": "LayoutModel",
          "model_module_version": "1.2.0",
          "state": {
            "_model_module": "@jupyter-widgets/base",
            "_model_module_version": "1.2.0",
            "_model_name": "LayoutModel",
            "_view_count": null,
            "_view_module": "@jupyter-widgets/base",
            "_view_module_version": "1.2.0",
            "_view_name": "LayoutView",
            "align_content": null,
            "align_items": null,
            "align_self": null,
            "border": null,
            "bottom": null,
            "display": null,
            "flex": null,
            "flex_flow": null,
            "grid_area": null,
            "grid_auto_columns": null,
            "grid_auto_flow": null,
            "grid_auto_rows": null,
            "grid_column": null,
            "grid_gap": null,
            "grid_row": null,
            "grid_template_areas": null,
            "grid_template_columns": null,
            "grid_template_rows": null,
            "height": null,
            "justify_content": null,
            "justify_items": null,
            "left": null,
            "margin": null,
            "max_height": null,
            "max_width": null,
            "min_height": null,
            "min_width": null,
            "object_fit": null,
            "object_position": null,
            "order": null,
            "overflow": null,
            "overflow_x": null,
            "overflow_y": null,
            "padding": null,
            "right": null,
            "top": null,
            "visibility": null,
            "width": null
          }
        },
        "18629e2765ba4646b86f30debe5eb81b": {
          "model_module": "@jupyter-widgets/controls",
          "model_name": "DescriptionStyleModel",
          "model_module_version": "1.5.0",
          "state": {
            "_model_module": "@jupyter-widgets/controls",
            "_model_module_version": "1.5.0",
            "_model_name": "DescriptionStyleModel",
            "_view_count": null,
            "_view_module": "@jupyter-widgets/base",
            "_view_module_version": "1.2.0",
            "_view_name": "StyleView",
            "description_width": ""
          }
        },
        "b214b7f3cba04d9593f5f429026c5409": {
          "model_module": "@jupyter-widgets/base",
          "model_name": "LayoutModel",
          "model_module_version": "1.2.0",
          "state": {
            "_model_module": "@jupyter-widgets/base",
            "_model_module_version": "1.2.0",
            "_model_name": "LayoutModel",
            "_view_count": null,
            "_view_module": "@jupyter-widgets/base",
            "_view_module_version": "1.2.0",
            "_view_name": "LayoutView",
            "align_content": null,
            "align_items": null,
            "align_self": null,
            "border": null,
            "bottom": null,
            "display": null,
            "flex": null,
            "flex_flow": null,
            "grid_area": null,
            "grid_auto_columns": null,
            "grid_auto_flow": null,
            "grid_auto_rows": null,
            "grid_column": null,
            "grid_gap": null,
            "grid_row": null,
            "grid_template_areas": null,
            "grid_template_columns": null,
            "grid_template_rows": null,
            "height": null,
            "justify_content": null,
            "justify_items": null,
            "left": null,
            "margin": null,
            "max_height": null,
            "max_width": null,
            "min_height": null,
            "min_width": null,
            "object_fit": null,
            "object_position": null,
            "order": null,
            "overflow": null,
            "overflow_x": null,
            "overflow_y": null,
            "padding": null,
            "right": null,
            "top": null,
            "visibility": null,
            "width": null
          }
        },
        "c5eceaf78f92484a8bcafe2d27570514": {
          "model_module": "@jupyter-widgets/controls",
          "model_name": "ProgressStyleModel",
          "model_module_version": "1.5.0",
          "state": {
            "_model_module": "@jupyter-widgets/controls",
            "_model_module_version": "1.5.0",
            "_model_name": "ProgressStyleModel",
            "_view_count": null,
            "_view_module": "@jupyter-widgets/base",
            "_view_module_version": "1.2.0",
            "_view_name": "StyleView",
            "bar_color": null,
            "description_width": ""
          }
        },
        "812a7da81a90403fb7f28e6192b407db": {
          "model_module": "@jupyter-widgets/base",
          "model_name": "LayoutModel",
          "model_module_version": "1.2.0",
          "state": {
            "_model_module": "@jupyter-widgets/base",
            "_model_module_version": "1.2.0",
            "_model_name": "LayoutModel",
            "_view_count": null,
            "_view_module": "@jupyter-widgets/base",
            "_view_module_version": "1.2.0",
            "_view_name": "LayoutView",
            "align_content": null,
            "align_items": null,
            "align_self": null,
            "border": null,
            "bottom": null,
            "display": null,
            "flex": null,
            "flex_flow": null,
            "grid_area": null,
            "grid_auto_columns": null,
            "grid_auto_flow": null,
            "grid_auto_rows": null,
            "grid_column": null,
            "grid_gap": null,
            "grid_row": null,
            "grid_template_areas": null,
            "grid_template_columns": null,
            "grid_template_rows": null,
            "height": null,
            "justify_content": null,
            "justify_items": null,
            "left": null,
            "margin": null,
            "max_height": null,
            "max_width": null,
            "min_height": null,
            "min_width": null,
            "object_fit": null,
            "object_position": null,
            "order": null,
            "overflow": null,
            "overflow_x": null,
            "overflow_y": null,
            "padding": null,
            "right": null,
            "top": null,
            "visibility": null,
            "width": null
          }
        },
        "9998ca3ab6c44cf2810dcf6413c6b834": {
          "model_module": "@jupyter-widgets/controls",
          "model_name": "DescriptionStyleModel",
          "model_module_version": "1.5.0",
          "state": {
            "_model_module": "@jupyter-widgets/controls",
            "_model_module_version": "1.5.0",
            "_model_name": "DescriptionStyleModel",
            "_view_count": null,
            "_view_module": "@jupyter-widgets/base",
            "_view_module_version": "1.2.0",
            "_view_name": "StyleView",
            "description_width": ""
          }
        },
        "f5472356eca049f781a53632bc5d846e": {
          "model_module": "@jupyter-widgets/controls",
          "model_name": "HBoxModel",
          "model_module_version": "1.5.0",
          "state": {
            "_dom_classes": [],
            "_model_module": "@jupyter-widgets/controls",
            "_model_module_version": "1.5.0",
            "_model_name": "HBoxModel",
            "_view_count": null,
            "_view_module": "@jupyter-widgets/controls",
            "_view_module_version": "1.5.0",
            "_view_name": "HBoxView",
            "box_style": "",
            "children": [
              "IPY_MODEL_c93895935b7749a0a235e2c9968c52b6",
              "IPY_MODEL_8e5c6e69a35d4aeeb9bfcdf572c9a70d",
              "IPY_MODEL_8f77b44e20424db3a3cf268898a2ee95"
            ],
            "layout": "IPY_MODEL_f80dad9691224a018f75f6bba57560be"
          }
        },
        "c93895935b7749a0a235e2c9968c52b6": {
          "model_module": "@jupyter-widgets/controls",
          "model_name": "HTMLModel",
          "model_module_version": "1.5.0",
          "state": {
            "_dom_classes": [],
            "_model_module": "@jupyter-widgets/controls",
            "_model_module_version": "1.5.0",
            "_model_name": "HTMLModel",
            "_view_count": null,
            "_view_module": "@jupyter-widgets/controls",
            "_view_module_version": "1.5.0",
            "_view_name": "HTMLView",
            "description": "",
            "description_tooltip": null,
            "layout": "IPY_MODEL_f9e7bcc529e8494f865bc8d70fc0614e",
            "placeholder": "​",
            "style": "IPY_MODEL_bdbb7ade6d1942fe91ceefaca21b94e3",
            "value": "vocab.txt: 100%"
          }
        },
        "8e5c6e69a35d4aeeb9bfcdf572c9a70d": {
          "model_module": "@jupyter-widgets/controls",
          "model_name": "FloatProgressModel",
          "model_module_version": "1.5.0",
          "state": {
            "_dom_classes": [],
            "_model_module": "@jupyter-widgets/controls",
            "_model_module_version": "1.5.0",
            "_model_name": "FloatProgressModel",
            "_view_count": null,
            "_view_module": "@jupyter-widgets/controls",
            "_view_module_version": "1.5.0",
            "_view_name": "ProgressView",
            "bar_style": "success",
            "description": "",
            "description_tooltip": null,
            "layout": "IPY_MODEL_9e493eafab8742e4bbdb2ec12c759044",
            "max": 871891,
            "min": 0,
            "orientation": "horizontal",
            "style": "IPY_MODEL_dbb49abc29b440d2a3aeeba2e5685684",
            "value": 871891
          }
        },
        "8f77b44e20424db3a3cf268898a2ee95": {
          "model_module": "@jupyter-widgets/controls",
          "model_name": "HTMLModel",
          "model_module_version": "1.5.0",
          "state": {
            "_dom_classes": [],
            "_model_module": "@jupyter-widgets/controls",
            "_model_module_version": "1.5.0",
            "_model_name": "HTMLModel",
            "_view_count": null,
            "_view_module": "@jupyter-widgets/controls",
            "_view_module_version": "1.5.0",
            "_view_name": "HTMLView",
            "description": "",
            "description_tooltip": null,
            "layout": "IPY_MODEL_9dfdcbd196ac4463acbf64881589183b",
            "placeholder": "​",
            "style": "IPY_MODEL_1469580c840549c6b4cfd3ba71d0dc44",
            "value": " 872k/872k [00:00&lt;00:00, 4.44MB/s]"
          }
        },
        "f80dad9691224a018f75f6bba57560be": {
          "model_module": "@jupyter-widgets/base",
          "model_name": "LayoutModel",
          "model_module_version": "1.2.0",
          "state": {
            "_model_module": "@jupyter-widgets/base",
            "_model_module_version": "1.2.0",
            "_model_name": "LayoutModel",
            "_view_count": null,
            "_view_module": "@jupyter-widgets/base",
            "_view_module_version": "1.2.0",
            "_view_name": "LayoutView",
            "align_content": null,
            "align_items": null,
            "align_self": null,
            "border": null,
            "bottom": null,
            "display": null,
            "flex": null,
            "flex_flow": null,
            "grid_area": null,
            "grid_auto_columns": null,
            "grid_auto_flow": null,
            "grid_auto_rows": null,
            "grid_column": null,
            "grid_gap": null,
            "grid_row": null,
            "grid_template_areas": null,
            "grid_template_columns": null,
            "grid_template_rows": null,
            "height": null,
            "justify_content": null,
            "justify_items": null,
            "left": null,
            "margin": null,
            "max_height": null,
            "max_width": null,
            "min_height": null,
            "min_width": null,
            "object_fit": null,
            "object_position": null,
            "order": null,
            "overflow": null,
            "overflow_x": null,
            "overflow_y": null,
            "padding": null,
            "right": null,
            "top": null,
            "visibility": null,
            "width": null
          }
        },
        "f9e7bcc529e8494f865bc8d70fc0614e": {
          "model_module": "@jupyter-widgets/base",
          "model_name": "LayoutModel",
          "model_module_version": "1.2.0",
          "state": {
            "_model_module": "@jupyter-widgets/base",
            "_model_module_version": "1.2.0",
            "_model_name": "LayoutModel",
            "_view_count": null,
            "_view_module": "@jupyter-widgets/base",
            "_view_module_version": "1.2.0",
            "_view_name": "LayoutView",
            "align_content": null,
            "align_items": null,
            "align_self": null,
            "border": null,
            "bottom": null,
            "display": null,
            "flex": null,
            "flex_flow": null,
            "grid_area": null,
            "grid_auto_columns": null,
            "grid_auto_flow": null,
            "grid_auto_rows": null,
            "grid_column": null,
            "grid_gap": null,
            "grid_row": null,
            "grid_template_areas": null,
            "grid_template_columns": null,
            "grid_template_rows": null,
            "height": null,
            "justify_content": null,
            "justify_items": null,
            "left": null,
            "margin": null,
            "max_height": null,
            "max_width": null,
            "min_height": null,
            "min_width": null,
            "object_fit": null,
            "object_position": null,
            "order": null,
            "overflow": null,
            "overflow_x": null,
            "overflow_y": null,
            "padding": null,
            "right": null,
            "top": null,
            "visibility": null,
            "width": null
          }
        },
        "bdbb7ade6d1942fe91ceefaca21b94e3": {
          "model_module": "@jupyter-widgets/controls",
          "model_name": "DescriptionStyleModel",
          "model_module_version": "1.5.0",
          "state": {
            "_model_module": "@jupyter-widgets/controls",
            "_model_module_version": "1.5.0",
            "_model_name": "DescriptionStyleModel",
            "_view_count": null,
            "_view_module": "@jupyter-widgets/base",
            "_view_module_version": "1.2.0",
            "_view_name": "StyleView",
            "description_width": ""
          }
        },
        "9e493eafab8742e4bbdb2ec12c759044": {
          "model_module": "@jupyter-widgets/base",
          "model_name": "LayoutModel",
          "model_module_version": "1.2.0",
          "state": {
            "_model_module": "@jupyter-widgets/base",
            "_model_module_version": "1.2.0",
            "_model_name": "LayoutModel",
            "_view_count": null,
            "_view_module": "@jupyter-widgets/base",
            "_view_module_version": "1.2.0",
            "_view_name": "LayoutView",
            "align_content": null,
            "align_items": null,
            "align_self": null,
            "border": null,
            "bottom": null,
            "display": null,
            "flex": null,
            "flex_flow": null,
            "grid_area": null,
            "grid_auto_columns": null,
            "grid_auto_flow": null,
            "grid_auto_rows": null,
            "grid_column": null,
            "grid_gap": null,
            "grid_row": null,
            "grid_template_areas": null,
            "grid_template_columns": null,
            "grid_template_rows": null,
            "height": null,
            "justify_content": null,
            "justify_items": null,
            "left": null,
            "margin": null,
            "max_height": null,
            "max_width": null,
            "min_height": null,
            "min_width": null,
            "object_fit": null,
            "object_position": null,
            "order": null,
            "overflow": null,
            "overflow_x": null,
            "overflow_y": null,
            "padding": null,
            "right": null,
            "top": null,
            "visibility": null,
            "width": null
          }
        },
        "dbb49abc29b440d2a3aeeba2e5685684": {
          "model_module": "@jupyter-widgets/controls",
          "model_name": "ProgressStyleModel",
          "model_module_version": "1.5.0",
          "state": {
            "_model_module": "@jupyter-widgets/controls",
            "_model_module_version": "1.5.0",
            "_model_name": "ProgressStyleModel",
            "_view_count": null,
            "_view_module": "@jupyter-widgets/base",
            "_view_module_version": "1.2.0",
            "_view_name": "StyleView",
            "bar_color": null,
            "description_width": ""
          }
        },
        "9dfdcbd196ac4463acbf64881589183b": {
          "model_module": "@jupyter-widgets/base",
          "model_name": "LayoutModel",
          "model_module_version": "1.2.0",
          "state": {
            "_model_module": "@jupyter-widgets/base",
            "_model_module_version": "1.2.0",
            "_model_name": "LayoutModel",
            "_view_count": null,
            "_view_module": "@jupyter-widgets/base",
            "_view_module_version": "1.2.0",
            "_view_name": "LayoutView",
            "align_content": null,
            "align_items": null,
            "align_self": null,
            "border": null,
            "bottom": null,
            "display": null,
            "flex": null,
            "flex_flow": null,
            "grid_area": null,
            "grid_auto_columns": null,
            "grid_auto_flow": null,
            "grid_auto_rows": null,
            "grid_column": null,
            "grid_gap": null,
            "grid_row": null,
            "grid_template_areas": null,
            "grid_template_columns": null,
            "grid_template_rows": null,
            "height": null,
            "justify_content": null,
            "justify_items": null,
            "left": null,
            "margin": null,
            "max_height": null,
            "max_width": null,
            "min_height": null,
            "min_width": null,
            "object_fit": null,
            "object_position": null,
            "order": null,
            "overflow": null,
            "overflow_x": null,
            "overflow_y": null,
            "padding": null,
            "right": null,
            "top": null,
            "visibility": null,
            "width": null
          }
        },
        "1469580c840549c6b4cfd3ba71d0dc44": {
          "model_module": "@jupyter-widgets/controls",
          "model_name": "DescriptionStyleModel",
          "model_module_version": "1.5.0",
          "state": {
            "_model_module": "@jupyter-widgets/controls",
            "_model_module_version": "1.5.0",
            "_model_name": "DescriptionStyleModel",
            "_view_count": null,
            "_view_module": "@jupyter-widgets/base",
            "_view_module_version": "1.2.0",
            "_view_name": "StyleView",
            "description_width": ""
          }
        },
        "830bda5698934231b6016ff791d9c2db": {
          "model_module": "@jupyter-widgets/controls",
          "model_name": "HBoxModel",
          "model_module_version": "1.5.0",
          "state": {
            "_dom_classes": [],
            "_model_module": "@jupyter-widgets/controls",
            "_model_module_version": "1.5.0",
            "_model_name": "HBoxModel",
            "_view_count": null,
            "_view_module": "@jupyter-widgets/controls",
            "_view_module_version": "1.5.0",
            "_view_name": "HBoxView",
            "box_style": "",
            "children": [
              "IPY_MODEL_d0d11a2dd8174132924028103cbffc68",
              "IPY_MODEL_fdb7db21160e4227b6d9a96538938a23",
              "IPY_MODEL_7fc635bd674c4407a03a0d181ef7fe6f"
            ],
            "layout": "IPY_MODEL_5fa5e90c7aea469d86b902df9ee47d5b"
          }
        },
        "d0d11a2dd8174132924028103cbffc68": {
          "model_module": "@jupyter-widgets/controls",
          "model_name": "HTMLModel",
          "model_module_version": "1.5.0",
          "state": {
            "_dom_classes": [],
            "_model_module": "@jupyter-widgets/controls",
            "_model_module_version": "1.5.0",
            "_model_name": "HTMLModel",
            "_view_count": null,
            "_view_module": "@jupyter-widgets/controls",
            "_view_module_version": "1.5.0",
            "_view_name": "HTMLView",
            "description": "",
            "description_tooltip": null,
            "layout": "IPY_MODEL_2d461a1d0fe944809bbfe49b61cd126e",
            "placeholder": "​",
            "style": "IPY_MODEL_529bebac51c2452cae25f1803e6a4d18",
            "value": "special_tokens_map.json: 100%"
          }
        },
        "fdb7db21160e4227b6d9a96538938a23": {
          "model_module": "@jupyter-widgets/controls",
          "model_name": "FloatProgressModel",
          "model_module_version": "1.5.0",
          "state": {
            "_dom_classes": [],
            "_model_module": "@jupyter-widgets/controls",
            "_model_module_version": "1.5.0",
            "_model_name": "FloatProgressModel",
            "_view_count": null,
            "_view_module": "@jupyter-widgets/controls",
            "_view_module_version": "1.5.0",
            "_view_name": "ProgressView",
            "bar_style": "success",
            "description": "",
            "description_tooltip": null,
            "layout": "IPY_MODEL_c5a4ba1801134a4f81f8055f49bede82",
            "max": 112,
            "min": 0,
            "orientation": "horizontal",
            "style": "IPY_MODEL_e05227516cf24253bf14a0eb03f8e70d",
            "value": 112
          }
        },
        "7fc635bd674c4407a03a0d181ef7fe6f": {
          "model_module": "@jupyter-widgets/controls",
          "model_name": "HTMLModel",
          "model_module_version": "1.5.0",
          "state": {
            "_dom_classes": [],
            "_model_module": "@jupyter-widgets/controls",
            "_model_module_version": "1.5.0",
            "_model_name": "HTMLModel",
            "_view_count": null,
            "_view_module": "@jupyter-widgets/controls",
            "_view_module_version": "1.5.0",
            "_view_name": "HTMLView",
            "description": "",
            "description_tooltip": null,
            "layout": "IPY_MODEL_243071494cc14daaa127f5504c0a4fa9",
            "placeholder": "​",
            "style": "IPY_MODEL_de3473ba593f40ee939ce8fd55979e44",
            "value": " 112/112 [00:00&lt;00:00, 6.05kB/s]"
          }
        },
        "5fa5e90c7aea469d86b902df9ee47d5b": {
          "model_module": "@jupyter-widgets/base",
          "model_name": "LayoutModel",
          "model_module_version": "1.2.0",
          "state": {
            "_model_module": "@jupyter-widgets/base",
            "_model_module_version": "1.2.0",
            "_model_name": "LayoutModel",
            "_view_count": null,
            "_view_module": "@jupyter-widgets/base",
            "_view_module_version": "1.2.0",
            "_view_name": "LayoutView",
            "align_content": null,
            "align_items": null,
            "align_self": null,
            "border": null,
            "bottom": null,
            "display": null,
            "flex": null,
            "flex_flow": null,
            "grid_area": null,
            "grid_auto_columns": null,
            "grid_auto_flow": null,
            "grid_auto_rows": null,
            "grid_column": null,
            "grid_gap": null,
            "grid_row": null,
            "grid_template_areas": null,
            "grid_template_columns": null,
            "grid_template_rows": null,
            "height": null,
            "justify_content": null,
            "justify_items": null,
            "left": null,
            "margin": null,
            "max_height": null,
            "max_width": null,
            "min_height": null,
            "min_width": null,
            "object_fit": null,
            "object_position": null,
            "order": null,
            "overflow": null,
            "overflow_x": null,
            "overflow_y": null,
            "padding": null,
            "right": null,
            "top": null,
            "visibility": null,
            "width": null
          }
        },
        "2d461a1d0fe944809bbfe49b61cd126e": {
          "model_module": "@jupyter-widgets/base",
          "model_name": "LayoutModel",
          "model_module_version": "1.2.0",
          "state": {
            "_model_module": "@jupyter-widgets/base",
            "_model_module_version": "1.2.0",
            "_model_name": "LayoutModel",
            "_view_count": null,
            "_view_module": "@jupyter-widgets/base",
            "_view_module_version": "1.2.0",
            "_view_name": "LayoutView",
            "align_content": null,
            "align_items": null,
            "align_self": null,
            "border": null,
            "bottom": null,
            "display": null,
            "flex": null,
            "flex_flow": null,
            "grid_area": null,
            "grid_auto_columns": null,
            "grid_auto_flow": null,
            "grid_auto_rows": null,
            "grid_column": null,
            "grid_gap": null,
            "grid_row": null,
            "grid_template_areas": null,
            "grid_template_columns": null,
            "grid_template_rows": null,
            "height": null,
            "justify_content": null,
            "justify_items": null,
            "left": null,
            "margin": null,
            "max_height": null,
            "max_width": null,
            "min_height": null,
            "min_width": null,
            "object_fit": null,
            "object_position": null,
            "order": null,
            "overflow": null,
            "overflow_x": null,
            "overflow_y": null,
            "padding": null,
            "right": null,
            "top": null,
            "visibility": null,
            "width": null
          }
        },
        "529bebac51c2452cae25f1803e6a4d18": {
          "model_module": "@jupyter-widgets/controls",
          "model_name": "DescriptionStyleModel",
          "model_module_version": "1.5.0",
          "state": {
            "_model_module": "@jupyter-widgets/controls",
            "_model_module_version": "1.5.0",
            "_model_name": "DescriptionStyleModel",
            "_view_count": null,
            "_view_module": "@jupyter-widgets/base",
            "_view_module_version": "1.2.0",
            "_view_name": "StyleView",
            "description_width": ""
          }
        },
        "c5a4ba1801134a4f81f8055f49bede82": {
          "model_module": "@jupyter-widgets/base",
          "model_name": "LayoutModel",
          "model_module_version": "1.2.0",
          "state": {
            "_model_module": "@jupyter-widgets/base",
            "_model_module_version": "1.2.0",
            "_model_name": "LayoutModel",
            "_view_count": null,
            "_view_module": "@jupyter-widgets/base",
            "_view_module_version": "1.2.0",
            "_view_name": "LayoutView",
            "align_content": null,
            "align_items": null,
            "align_self": null,
            "border": null,
            "bottom": null,
            "display": null,
            "flex": null,
            "flex_flow": null,
            "grid_area": null,
            "grid_auto_columns": null,
            "grid_auto_flow": null,
            "grid_auto_rows": null,
            "grid_column": null,
            "grid_gap": null,
            "grid_row": null,
            "grid_template_areas": null,
            "grid_template_columns": null,
            "grid_template_rows": null,
            "height": null,
            "justify_content": null,
            "justify_items": null,
            "left": null,
            "margin": null,
            "max_height": null,
            "max_width": null,
            "min_height": null,
            "min_width": null,
            "object_fit": null,
            "object_position": null,
            "order": null,
            "overflow": null,
            "overflow_x": null,
            "overflow_y": null,
            "padding": null,
            "right": null,
            "top": null,
            "visibility": null,
            "width": null
          }
        },
        "e05227516cf24253bf14a0eb03f8e70d": {
          "model_module": "@jupyter-widgets/controls",
          "model_name": "ProgressStyleModel",
          "model_module_version": "1.5.0",
          "state": {
            "_model_module": "@jupyter-widgets/controls",
            "_model_module_version": "1.5.0",
            "_model_name": "ProgressStyleModel",
            "_view_count": null,
            "_view_module": "@jupyter-widgets/base",
            "_view_module_version": "1.2.0",
            "_view_name": "StyleView",
            "bar_color": null,
            "description_width": ""
          }
        },
        "243071494cc14daaa127f5504c0a4fa9": {
          "model_module": "@jupyter-widgets/base",
          "model_name": "LayoutModel",
          "model_module_version": "1.2.0",
          "state": {
            "_model_module": "@jupyter-widgets/base",
            "_model_module_version": "1.2.0",
            "_model_name": "LayoutModel",
            "_view_count": null,
            "_view_module": "@jupyter-widgets/base",
            "_view_module_version": "1.2.0",
            "_view_name": "LayoutView",
            "align_content": null,
            "align_items": null,
            "align_self": null,
            "border": null,
            "bottom": null,
            "display": null,
            "flex": null,
            "flex_flow": null,
            "grid_area": null,
            "grid_auto_columns": null,
            "grid_auto_flow": null,
            "grid_auto_rows": null,
            "grid_column": null,
            "grid_gap": null,
            "grid_row": null,
            "grid_template_areas": null,
            "grid_template_columns": null,
            "grid_template_rows": null,
            "height": null,
            "justify_content": null,
            "justify_items": null,
            "left": null,
            "margin": null,
            "max_height": null,
            "max_width": null,
            "min_height": null,
            "min_width": null,
            "object_fit": null,
            "object_position": null,
            "order": null,
            "overflow": null,
            "overflow_x": null,
            "overflow_y": null,
            "padding": null,
            "right": null,
            "top": null,
            "visibility": null,
            "width": null
          }
        },
        "de3473ba593f40ee939ce8fd55979e44": {
          "model_module": "@jupyter-widgets/controls",
          "model_name": "DescriptionStyleModel",
          "model_module_version": "1.5.0",
          "state": {
            "_model_module": "@jupyter-widgets/controls",
            "_model_module_version": "1.5.0",
            "_model_name": "DescriptionStyleModel",
            "_view_count": null,
            "_view_module": "@jupyter-widgets/base",
            "_view_module_version": "1.2.0",
            "_view_name": "StyleView",
            "description_width": ""
          }
        }
      }
    }
  },
  "nbformat": 4,
  "nbformat_minor": 0
}